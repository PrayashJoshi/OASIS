{
 "cells": [
  {
   "cell_type": "code",
   "execution_count": 71,
   "metadata": {},
   "outputs": [],
   "source": [
    "import pandas as pd\n",
    "import numpy as np\n",
    "import random\n",
    "import operator\n",
    "import math\n",
    "import plotly.express as px"
   ]
  },
  {
   "cell_type": "code",
   "execution_count": 73,
   "metadata": {},
   "outputs": [],
   "source": [
    "file_path = 'HEALTH_STAT_02112023181604179.csv'\n",
    "data = pd.read_csv(file_path)"
   ]
  },
  {
   "cell_type": "code",
   "execution_count": 64,
   "metadata": {},
   "outputs": [],
   "source": [
    "# Initialize membership matrix with random probabilities for each cluster\n",
    "def initialize_membership_matrix(n, k):\n",
    "    membership_mat = []\n",
    "    for i in range(n):\n",
    "        random_num_list = [random.random() for _ in range(k)]\n",
    "        summation = sum(random_num_list)\n",
    "        temp_list = [x/summation for x in random_num_list]  # Normalize to sum to 1\n",
    "        membership_mat.append(temp_list)\n",
    "    return membership_mat\n",
    "\n",
    "\n",
    "# Calculate the centers of clusters using the membership matrix\n",
    "def calculate_cluster_centers(membership_mat, df, m, k):\n",
    "    cluster_mem_val = list(zip(*membership_mat))  # Transpose membership matrix\n",
    "    cluster_centers = []\n",
    "    for j in range(k):\n",
    "        x = list(cluster_mem_val[j])\n",
    "        x_raised = [e ** m for e in x]  # Raise to the power of fuzzy parameter m\n",
    "        denominator = sum(x_raised)\n",
    "        temp_num = []\n",
    "        for i in range(n):\n",
    "            data_point = list(df.iloc[i])\n",
    "            prod = [x_raised[i] * val for val in data_point]  # Weighted data point by membership value\n",
    "            temp_num.append(prod)\n",
    "        numerator = map(sum, zip(*temp_num))  # Column-wise summation\n",
    "        center = [z/denominator for z in numerator]  # Calculate center\n",
    "        cluster_centers.append(center)\n",
    "    return cluster_centers\n",
    "\n",
    "\n",
    "\n",
    "# Update membership values based on the cluster centers\n",
    "def update_membership_values(membership_mat, cluster_centers, df, m, k):\n",
    "    p = float(2 / (m - 1))  # Exponent for membership update\n",
    "    for i in range(n):\n",
    "        x = list(df.iloc[i])\n",
    "        distances = [np.linalg.norm(list(map(operator.sub, x, cluster_centers[j]))) for j in range(k)]  # Calculate distances\n",
    "        for j in range(k):\n",
    "            den = sum([math.pow(distances[j] / distances[c], p) for c in range(k)])  # Sum of ratios raised to the power p\n",
    "            membership_mat[i][j] = float(1 / den) if den != 0 else 0  # Update membership value\n",
    "    return membership_mat\n",
    "\n",
    "\n",
    "# Assign data points to clusters based on maximum membership value\n",
    "def get_clusters(membership_mat):\n",
    "    cluster_labels = []\n",
    "    for i in range(n):\n",
    "        max_val, idx = max((val, idx) for (idx, val) in enumerate(membership_mat[i]))  # Find the index of max membership\n",
    "        cluster_labels.append(idx)  # Assign cluster based on max membership\n",
    "    return cluster_labels\n",
    "\n",
    "\n",
    "# Main function to perform Fuzzy C-Means clustering\n",
    "def fuzzy_c_means_clustering(df, n, k, m, MAX_ITER):\n",
    "    membership_mat = initialize_membership_matrix(n, k)  # Step 1: Initialize membership matrix\n",
    "    curr = 0\n",
    "    while curr <= MAX_ITER:  # Iterate until max iterations or convergence\n",
    "        cluster_centers = calculate_cluster_centers(membership_mat, df, m, k)  # Step 2: Calculate cluster centers\n",
    "        membership_mat = update_membership_values(membership_mat, cluster_centers, df, m, k)  # Step 3: Update membership matrix\n",
    "        cluster_labels = get_clusters(membership_mat)  # Step 4: Assign clusters\n",
    "        curr += 1\n",
    "    return cluster_labels, cluster_centers\n"
   ]
  },
  {
   "cell_type": "code",
   "execution_count": 65,
   "metadata": {},
   "outputs": [],
   "source": [
    "num_attr = 1  # Average Life Expectancy\n",
    "k = 4 # Number of clusters\n",
    "MAX_ITER = 100\n",
    "n = len(average_life_expectancy)  # Number of data points\n",
    "m = 2.00 # Fuzzy parameter\n",
    "df = average_life_expectancy[['Value']]  # Keeping only the life expectancy values\n",
    "# df.head()  \n",
    "\n",
    "\n",
    "\n",
    "# Generate the average life expectancy data\n",
    "life_expectancy_data = data[(data['Variable'] == 'Total population at birth') & (data['Measure'] == 'Years')]\n",
    "average_life_expectancy = life_expectancy_data.groupby('Country')['Value'].mean().reset_index()\n",
    "\n",
    "labels, _ = fuzzy_c_means_clustering(df, n, k, m, MAX_ITER)\n",
    "\n"
   ]
  },
  {
   "cell_type": "code",
   "execution_count": 77,
   "metadata": {},
   "outputs": [
    {
     "data": {
      "application/vnd.plotly.v1+json": {
       "config": {
        "plotlyServerURL": "https://plot.ly"
       },
       "data": [
        {
         "customdata": [
          [
           "Argentina"
          ],
          [
           "Australia"
          ],
          [
           "Austria"
          ],
          [
           "Belgium"
          ],
          [
           "Brazil"
          ],
          [
           "Bulgaria"
          ],
          [
           "Canada"
          ],
          [
           "Chile"
          ],
          [
           "China (People's Republic of)"
          ],
          [
           "Colombia"
          ],
          [
           "Costa Rica"
          ],
          [
           "Croatia"
          ],
          [
           "Czech Republic"
          ],
          [
           "Denmark"
          ],
          [
           "Estonia"
          ],
          [
           "Finland"
          ],
          [
           "France"
          ],
          [
           "Germany"
          ],
          [
           "Greece"
          ],
          [
           "Hungary"
          ],
          [
           "Iceland"
          ],
          [
           "India"
          ],
          [
           "Indonesia"
          ],
          [
           "Ireland"
          ],
          [
           "Israel"
          ],
          [
           "Italy"
          ],
          [
           "Japan"
          ],
          [
           "Korea"
          ],
          [
           "Latvia"
          ],
          [
           "Lithuania"
          ],
          [
           "Luxembourg"
          ],
          [
           "Mexico"
          ],
          [
           "Netherlands"
          ],
          [
           "New Zealand"
          ],
          [
           "Norway"
          ],
          [
           "Peru"
          ],
          [
           "Poland"
          ],
          [
           "Portugal"
          ],
          [
           "Romania"
          ],
          [
           "Russia"
          ],
          [
           "Slovak Republic"
          ],
          [
           "Slovenia"
          ],
          [
           "South Africa"
          ],
          [
           "Spain"
          ],
          [
           "Sweden"
          ],
          [
           "Switzerland"
          ],
          [
           "Türkiye"
          ],
          [
           "United Kingdom"
          ],
          [
           "United States"
          ]
         ],
         "hovertemplate": "%{hovertext}",
         "hovertext": [
          "Country: Argentina<br>Life Expectancy: 76.38461538461539<br>Cluster: 2",
          "Country: Australia<br>Life Expectancy: 82.45<br>Cluster: 3",
          "Country: Austria<br>Life Expectancy: 81.41666666666667<br>Cluster: 0",
          "Country: Belgium<br>Life Expectancy: 81.19166666666666<br>Cluster: 0",
          "Country: Brazil<br>Life Expectancy: 73.99230769230769<br>Cluster: 2",
          "Country: Bulgaria<br>Life Expectancy: 74.27499999999999<br>Cluster: 2",
          "Country: Canada<br>Life Expectancy: 81.81666666666666<br>Cluster: 3",
          "Country: Chile<br>Life Expectancy: 79.9923076923077<br>Cluster: 0",
          "Country: China (People's Republic of)<br>Life Expectancy: 76.8923076923077<br>Cluster: 2",
          "Country: Colombia<br>Life Expectancy: 75.70769230769231<br>Cluster: 2",
          "Country: Costa Rica<br>Life Expectancy: 80.0076923076923<br>Cluster: 0",
          "Country: Croatia<br>Life Expectancy: 77.65833333333333<br>Cluster: 2",
          "Country: Czech Republic<br>Life Expectancy: 78.48333333333333<br>Cluster: 0",
          "Country: Denmark<br>Life Expectancy: 80.74166666666666<br>Cluster: 0",
          "Country: Estonia<br>Life Expectancy: 77.68333333333334<br>Cluster: 2",
          "Country: Finland<br>Life Expectancy: 81.375<br>Cluster: 0",
          "Country: France<br>Life Expectancy: 82.49166666666666<br>Cluster: 3",
          "Country: Germany<br>Life Expectancy: 80.88333333333334<br>Cluster: 0",
          "Country: Greece<br>Life Expectancy: 81.18333333333334<br>Cluster: 0",
          "Country: Hungary<br>Life Expectancy: 75.625<br>Cluster: 2",
          "Country: Iceland<br>Life Expectancy: 82.66666666666667<br>Cluster: 3",
          "Country: India<br>Life Expectancy: 68.88461538461539<br>Cluster: 1",
          "Country: Indonesia<br>Life Expectancy: 69.26153846153846<br>Cluster: 1",
          "Country: Ireland<br>Life Expectancy: 81.7<br>Cluster: 3",
          "Country: Israel<br>Life Expectancy: 82.38461538461539<br>Cluster: 3",
          "Country: Italy<br>Life Expectancy: 82.85833333333333<br>Cluster: 3",
          "Country: Japan<br>Life Expectancy: 83.825<br>Cluster: 3",
          "Country: Korea<br>Life Expectancy: 82.10000000000001<br>Cluster: 3",
          "Country: Latvia<br>Life Expectancy: 74.49166666666666<br>Cluster: 2",
          "Country: Lithuania<br>Life Expectancy: 74.75<br>Cluster: 2",
          "Country: Luxembourg<br>Life Expectancy: 82.05833333333334<br>Cluster: 3",
          "Country: Mexico<br>Life Expectancy: 74.98333333333333<br>Cluster: 2",
          "Country: Netherlands<br>Life Expectancy: 81.55833333333334<br>Cluster: 3",
          "Country: New Zealand<br>Life Expectancy: 81.58333333333333<br>Cluster: 3",
          "Country: Norway<br>Life Expectancy: 82.33333333333333<br>Cluster: 3",
          "Country: Peru<br>Life Expectancy: 74.74615384615385<br>Cluster: 2",
          "Country: Poland<br>Life Expectancy: 77.16666666666667<br>Cluster: 2",
          "Country: Portugal<br>Life Expectancy: 81.14999999999999<br>Cluster: 0",
          "Country: Romania<br>Life Expectancy: 74.64999999999999<br>Cluster: 2",
          "Country: Russia<br>Life Expectancy: 71.22999999999999<br>Cluster: 1",
          "Country: Slovak Republic<br>Life Expectancy: 76.64166666666667<br>Cluster: 2",
          "Country: Slovenia<br>Life Expectancy: 80.8<br>Cluster: 0",
          "Country: South Africa<br>Life Expectancy: 62.94615384615384<br>Cluster: 1",
          "Country: Spain<br>Life Expectancy: 83.09166666666667<br>Cluster: 3",
          "Country: Sweden<br>Life Expectancy: 82.33333333333333<br>Cluster: 3",
          "Country: Switzerland<br>Life Expectancy: 83.30833333333334<br>Cluster: 3",
          "Country: Türkiye<br>Life Expectancy: 77.05<br>Cluster: 2",
          "Country: United Kingdom<br>Life Expectancy: 80.89090909090909<br>Cluster: 0",
          "Country: United States<br>Life Expectancy: 78.39999999999999<br>Cluster: 0"
         ],
         "legendgroup": "",
         "marker": {
          "color": [
           2,
           3,
           0,
           0,
           2,
           2,
           3,
           0,
           2,
           2,
           0,
           2,
           0,
           0,
           2,
           0,
           3,
           0,
           0,
           2,
           3,
           1,
           1,
           3,
           3,
           3,
           3,
           3,
           2,
           2,
           3,
           2,
           3,
           3,
           3,
           2,
           2,
           0,
           2,
           1,
           2,
           0,
           1,
           3,
           3,
           3,
           2,
           0,
           0
          ],
          "coloraxis": "coloraxis",
          "size": 12,
          "symbol": "circle"
         },
         "mode": "markers",
         "name": "",
         "orientation": "v",
         "showlegend": false,
         "type": "scatter",
         "x": [
          0,
          1,
          2,
          3,
          4,
          5,
          6,
          7,
          8,
          9,
          10,
          11,
          12,
          13,
          14,
          15,
          16,
          17,
          18,
          19,
          20,
          21,
          22,
          23,
          24,
          25,
          26,
          27,
          28,
          29,
          30,
          31,
          32,
          33,
          34,
          35,
          36,
          37,
          38,
          39,
          40,
          41,
          42,
          43,
          44,
          45,
          46,
          47,
          48
         ],
         "xaxis": "x",
         "y": [
          76.38461538461539,
          82.45,
          81.41666666666667,
          81.19166666666666,
          73.99230769230769,
          74.27499999999999,
          81.81666666666666,
          79.9923076923077,
          76.8923076923077,
          75.70769230769231,
          80.0076923076923,
          77.65833333333333,
          78.48333333333333,
          80.74166666666666,
          77.68333333333334,
          81.375,
          82.49166666666666,
          80.88333333333334,
          81.18333333333334,
          75.625,
          82.66666666666667,
          68.88461538461539,
          69.26153846153846,
          81.7,
          82.38461538461539,
          82.85833333333333,
          83.825,
          82.10000000000001,
          74.49166666666666,
          74.75,
          82.05833333333334,
          74.98333333333333,
          81.55833333333334,
          81.58333333333333,
          82.33333333333333,
          74.74615384615385,
          77.16666666666667,
          81.14999999999999,
          74.64999999999999,
          71.22999999999999,
          76.64166666666667,
          80.8,
          62.94615384615384,
          83.09166666666667,
          82.33333333333333,
          83.30833333333334,
          77.05,
          80.89090909090909,
          78.39999999999999
         ],
         "yaxis": "y"
        }
       ],
       "layout": {
        "coloraxis": {
         "colorbar": {
          "title": {
           "text": "Cluster"
          }
         },
         "colorscale": [
          [
           0,
           "#0d0887"
          ],
          [
           0.1111111111111111,
           "#46039f"
          ],
          [
           0.2222222222222222,
           "#7201a8"
          ],
          [
           0.3333333333333333,
           "#9c179e"
          ],
          [
           0.4444444444444444,
           "#bd3786"
          ],
          [
           0.5555555555555556,
           "#d8576b"
          ],
          [
           0.6666666666666666,
           "#ed7953"
          ],
          [
           0.7777777777777778,
           "#fb9f3a"
          ],
          [
           0.8888888888888888,
           "#fdca26"
          ],
          [
           1,
           "#f0f921"
          ]
         ]
        },
        "legend": {
         "title": {
          "text": "Cluster"
         },
         "tracegroupgap": 0
        },
        "margin": {
         "t": 60
        },
        "template": {
         "data": {
          "bar": [
           {
            "error_x": {
             "color": "#2a3f5f"
            },
            "error_y": {
             "color": "#2a3f5f"
            },
            "marker": {
             "line": {
              "color": "#E5ECF6",
              "width": 0.5
             },
             "pattern": {
              "fillmode": "overlay",
              "size": 10,
              "solidity": 0.2
             }
            },
            "type": "bar"
           }
          ],
          "barpolar": [
           {
            "marker": {
             "line": {
              "color": "#E5ECF6",
              "width": 0.5
             },
             "pattern": {
              "fillmode": "overlay",
              "size": 10,
              "solidity": 0.2
             }
            },
            "type": "barpolar"
           }
          ],
          "carpet": [
           {
            "aaxis": {
             "endlinecolor": "#2a3f5f",
             "gridcolor": "white",
             "linecolor": "white",
             "minorgridcolor": "white",
             "startlinecolor": "#2a3f5f"
            },
            "baxis": {
             "endlinecolor": "#2a3f5f",
             "gridcolor": "white",
             "linecolor": "white",
             "minorgridcolor": "white",
             "startlinecolor": "#2a3f5f"
            },
            "type": "carpet"
           }
          ],
          "choropleth": [
           {
            "colorbar": {
             "outlinewidth": 0,
             "ticks": ""
            },
            "type": "choropleth"
           }
          ],
          "contour": [
           {
            "colorbar": {
             "outlinewidth": 0,
             "ticks": ""
            },
            "colorscale": [
             [
              0,
              "#0d0887"
             ],
             [
              0.1111111111111111,
              "#46039f"
             ],
             [
              0.2222222222222222,
              "#7201a8"
             ],
             [
              0.3333333333333333,
              "#9c179e"
             ],
             [
              0.4444444444444444,
              "#bd3786"
             ],
             [
              0.5555555555555556,
              "#d8576b"
             ],
             [
              0.6666666666666666,
              "#ed7953"
             ],
             [
              0.7777777777777778,
              "#fb9f3a"
             ],
             [
              0.8888888888888888,
              "#fdca26"
             ],
             [
              1,
              "#f0f921"
             ]
            ],
            "type": "contour"
           }
          ],
          "contourcarpet": [
           {
            "colorbar": {
             "outlinewidth": 0,
             "ticks": ""
            },
            "type": "contourcarpet"
           }
          ],
          "heatmap": [
           {
            "colorbar": {
             "outlinewidth": 0,
             "ticks": ""
            },
            "colorscale": [
             [
              0,
              "#0d0887"
             ],
             [
              0.1111111111111111,
              "#46039f"
             ],
             [
              0.2222222222222222,
              "#7201a8"
             ],
             [
              0.3333333333333333,
              "#9c179e"
             ],
             [
              0.4444444444444444,
              "#bd3786"
             ],
             [
              0.5555555555555556,
              "#d8576b"
             ],
             [
              0.6666666666666666,
              "#ed7953"
             ],
             [
              0.7777777777777778,
              "#fb9f3a"
             ],
             [
              0.8888888888888888,
              "#fdca26"
             ],
             [
              1,
              "#f0f921"
             ]
            ],
            "type": "heatmap"
           }
          ],
          "heatmapgl": [
           {
            "colorbar": {
             "outlinewidth": 0,
             "ticks": ""
            },
            "colorscale": [
             [
              0,
              "#0d0887"
             ],
             [
              0.1111111111111111,
              "#46039f"
             ],
             [
              0.2222222222222222,
              "#7201a8"
             ],
             [
              0.3333333333333333,
              "#9c179e"
             ],
             [
              0.4444444444444444,
              "#bd3786"
             ],
             [
              0.5555555555555556,
              "#d8576b"
             ],
             [
              0.6666666666666666,
              "#ed7953"
             ],
             [
              0.7777777777777778,
              "#fb9f3a"
             ],
             [
              0.8888888888888888,
              "#fdca26"
             ],
             [
              1,
              "#f0f921"
             ]
            ],
            "type": "heatmapgl"
           }
          ],
          "histogram": [
           {
            "marker": {
             "pattern": {
              "fillmode": "overlay",
              "size": 10,
              "solidity": 0.2
             }
            },
            "type": "histogram"
           }
          ],
          "histogram2d": [
           {
            "colorbar": {
             "outlinewidth": 0,
             "ticks": ""
            },
            "colorscale": [
             [
              0,
              "#0d0887"
             ],
             [
              0.1111111111111111,
              "#46039f"
             ],
             [
              0.2222222222222222,
              "#7201a8"
             ],
             [
              0.3333333333333333,
              "#9c179e"
             ],
             [
              0.4444444444444444,
              "#bd3786"
             ],
             [
              0.5555555555555556,
              "#d8576b"
             ],
             [
              0.6666666666666666,
              "#ed7953"
             ],
             [
              0.7777777777777778,
              "#fb9f3a"
             ],
             [
              0.8888888888888888,
              "#fdca26"
             ],
             [
              1,
              "#f0f921"
             ]
            ],
            "type": "histogram2d"
           }
          ],
          "histogram2dcontour": [
           {
            "colorbar": {
             "outlinewidth": 0,
             "ticks": ""
            },
            "colorscale": [
             [
              0,
              "#0d0887"
             ],
             [
              0.1111111111111111,
              "#46039f"
             ],
             [
              0.2222222222222222,
              "#7201a8"
             ],
             [
              0.3333333333333333,
              "#9c179e"
             ],
             [
              0.4444444444444444,
              "#bd3786"
             ],
             [
              0.5555555555555556,
              "#d8576b"
             ],
             [
              0.6666666666666666,
              "#ed7953"
             ],
             [
              0.7777777777777778,
              "#fb9f3a"
             ],
             [
              0.8888888888888888,
              "#fdca26"
             ],
             [
              1,
              "#f0f921"
             ]
            ],
            "type": "histogram2dcontour"
           }
          ],
          "mesh3d": [
           {
            "colorbar": {
             "outlinewidth": 0,
             "ticks": ""
            },
            "type": "mesh3d"
           }
          ],
          "parcoords": [
           {
            "line": {
             "colorbar": {
              "outlinewidth": 0,
              "ticks": ""
             }
            },
            "type": "parcoords"
           }
          ],
          "pie": [
           {
            "automargin": true,
            "type": "pie"
           }
          ],
          "scatter": [
           {
            "marker": {
             "colorbar": {
              "outlinewidth": 0,
              "ticks": ""
             }
            },
            "type": "scatter"
           }
          ],
          "scatter3d": [
           {
            "line": {
             "colorbar": {
              "outlinewidth": 0,
              "ticks": ""
             }
            },
            "marker": {
             "colorbar": {
              "outlinewidth": 0,
              "ticks": ""
             }
            },
            "type": "scatter3d"
           }
          ],
          "scattercarpet": [
           {
            "marker": {
             "colorbar": {
              "outlinewidth": 0,
              "ticks": ""
             }
            },
            "type": "scattercarpet"
           }
          ],
          "scattergeo": [
           {
            "marker": {
             "colorbar": {
              "outlinewidth": 0,
              "ticks": ""
             }
            },
            "type": "scattergeo"
           }
          ],
          "scattergl": [
           {
            "marker": {
             "colorbar": {
              "outlinewidth": 0,
              "ticks": ""
             }
            },
            "type": "scattergl"
           }
          ],
          "scattermapbox": [
           {
            "marker": {
             "colorbar": {
              "outlinewidth": 0,
              "ticks": ""
             }
            },
            "type": "scattermapbox"
           }
          ],
          "scatterpolar": [
           {
            "marker": {
             "colorbar": {
              "outlinewidth": 0,
              "ticks": ""
             }
            },
            "type": "scatterpolar"
           }
          ],
          "scatterpolargl": [
           {
            "marker": {
             "colorbar": {
              "outlinewidth": 0,
              "ticks": ""
             }
            },
            "type": "scatterpolargl"
           }
          ],
          "scatterternary": [
           {
            "marker": {
             "colorbar": {
              "outlinewidth": 0,
              "ticks": ""
             }
            },
            "type": "scatterternary"
           }
          ],
          "surface": [
           {
            "colorbar": {
             "outlinewidth": 0,
             "ticks": ""
            },
            "colorscale": [
             [
              0,
              "#0d0887"
             ],
             [
              0.1111111111111111,
              "#46039f"
             ],
             [
              0.2222222222222222,
              "#7201a8"
             ],
             [
              0.3333333333333333,
              "#9c179e"
             ],
             [
              0.4444444444444444,
              "#bd3786"
             ],
             [
              0.5555555555555556,
              "#d8576b"
             ],
             [
              0.6666666666666666,
              "#ed7953"
             ],
             [
              0.7777777777777778,
              "#fb9f3a"
             ],
             [
              0.8888888888888888,
              "#fdca26"
             ],
             [
              1,
              "#f0f921"
             ]
            ],
            "type": "surface"
           }
          ],
          "table": [
           {
            "cells": {
             "fill": {
              "color": "#EBF0F8"
             },
             "line": {
              "color": "white"
             }
            },
            "header": {
             "fill": {
              "color": "#C8D4E3"
             },
             "line": {
              "color": "white"
             }
            },
            "type": "table"
           }
          ]
         },
         "layout": {
          "annotationdefaults": {
           "arrowcolor": "#2a3f5f",
           "arrowhead": 0,
           "arrowwidth": 1
          },
          "autotypenumbers": "strict",
          "coloraxis": {
           "colorbar": {
            "outlinewidth": 0,
            "ticks": ""
           }
          },
          "colorscale": {
           "diverging": [
            [
             0,
             "#8e0152"
            ],
            [
             0.1,
             "#c51b7d"
            ],
            [
             0.2,
             "#de77ae"
            ],
            [
             0.3,
             "#f1b6da"
            ],
            [
             0.4,
             "#fde0ef"
            ],
            [
             0.5,
             "#f7f7f7"
            ],
            [
             0.6,
             "#e6f5d0"
            ],
            [
             0.7,
             "#b8e186"
            ],
            [
             0.8,
             "#7fbc41"
            ],
            [
             0.9,
             "#4d9221"
            ],
            [
             1,
             "#276419"
            ]
           ],
           "sequential": [
            [
             0,
             "#0d0887"
            ],
            [
             0.1111111111111111,
             "#46039f"
            ],
            [
             0.2222222222222222,
             "#7201a8"
            ],
            [
             0.3333333333333333,
             "#9c179e"
            ],
            [
             0.4444444444444444,
             "#bd3786"
            ],
            [
             0.5555555555555556,
             "#d8576b"
            ],
            [
             0.6666666666666666,
             "#ed7953"
            ],
            [
             0.7777777777777778,
             "#fb9f3a"
            ],
            [
             0.8888888888888888,
             "#fdca26"
            ],
            [
             1,
             "#f0f921"
            ]
           ],
           "sequentialminus": [
            [
             0,
             "#0d0887"
            ],
            [
             0.1111111111111111,
             "#46039f"
            ],
            [
             0.2222222222222222,
             "#7201a8"
            ],
            [
             0.3333333333333333,
             "#9c179e"
            ],
            [
             0.4444444444444444,
             "#bd3786"
            ],
            [
             0.5555555555555556,
             "#d8576b"
            ],
            [
             0.6666666666666666,
             "#ed7953"
            ],
            [
             0.7777777777777778,
             "#fb9f3a"
            ],
            [
             0.8888888888888888,
             "#fdca26"
            ],
            [
             1,
             "#f0f921"
            ]
           ]
          },
          "colorway": [
           "#636efa",
           "#EF553B",
           "#00cc96",
           "#ab63fa",
           "#FFA15A",
           "#19d3f3",
           "#FF6692",
           "#B6E880",
           "#FF97FF",
           "#FECB52"
          ],
          "font": {
           "color": "#2a3f5f"
          },
          "geo": {
           "bgcolor": "white",
           "lakecolor": "white",
           "landcolor": "#E5ECF6",
           "showlakes": true,
           "showland": true,
           "subunitcolor": "white"
          },
          "hoverlabel": {
           "align": "left"
          },
          "hovermode": "closest",
          "mapbox": {
           "style": "light"
          },
          "paper_bgcolor": "white",
          "plot_bgcolor": "#E5ECF6",
          "polar": {
           "angularaxis": {
            "gridcolor": "white",
            "linecolor": "white",
            "ticks": ""
           },
           "bgcolor": "#E5ECF6",
           "radialaxis": {
            "gridcolor": "white",
            "linecolor": "white",
            "ticks": ""
           }
          },
          "scene": {
           "xaxis": {
            "backgroundcolor": "#E5ECF6",
            "gridcolor": "white",
            "gridwidth": 2,
            "linecolor": "white",
            "showbackground": true,
            "ticks": "",
            "zerolinecolor": "white"
           },
           "yaxis": {
            "backgroundcolor": "#E5ECF6",
            "gridcolor": "white",
            "gridwidth": 2,
            "linecolor": "white",
            "showbackground": true,
            "ticks": "",
            "zerolinecolor": "white"
           },
           "zaxis": {
            "backgroundcolor": "#E5ECF6",
            "gridcolor": "white",
            "gridwidth": 2,
            "linecolor": "white",
            "showbackground": true,
            "ticks": "",
            "zerolinecolor": "white"
           }
          },
          "shapedefaults": {
           "line": {
            "color": "#2a3f5f"
           }
          },
          "ternary": {
           "aaxis": {
            "gridcolor": "white",
            "linecolor": "white",
            "ticks": ""
           },
           "baxis": {
            "gridcolor": "white",
            "linecolor": "white",
            "ticks": ""
           },
           "bgcolor": "#E5ECF6",
           "caxis": {
            "gridcolor": "white",
            "linecolor": "white",
            "ticks": ""
           }
          },
          "title": {
           "x": 0.05
          },
          "xaxis": {
           "automargin": true,
           "gridcolor": "white",
           "linecolor": "white",
           "ticks": "",
           "title": {
            "standoff": 15
           },
           "zerolinecolor": "white",
           "zerolinewidth": 2
          },
          "yaxis": {
           "automargin": true,
           "gridcolor": "white",
           "linecolor": "white",
           "ticks": "",
           "title": {
            "standoff": 15
           },
           "zerolinecolor": "white",
           "zerolinewidth": 2
          }
         }
        },
        "title": {
         "text": "Fuzzy Clustering of Life Expectancy by Country"
        },
        "xaxis": {
         "anchor": "y",
         "domain": [
          0,
          1
         ],
         "title": {
          "text": "Country Index"
         }
        },
        "yaxis": {
         "anchor": "x",
         "domain": [
          0,
          1
         ],
         "title": {
          "text": "Life Expectancy"
         }
        }
       }
      }
     },
     "metadata": {},
     "output_type": "display_data"
    }
   ],
   "source": [
    "# Create a DataFrame for plotting that includes the country, average life expectancy, and cluster assignment\n",
    "plot_df = average_life_expectancy.copy()\n",
    "plot_df['Cluster'] = labels\n",
    "\n",
    "# Create a list of strings with the information you want to display on hover\n",
    "hover_data = []\n",
    "for index, row in plot_df.iterrows():\n",
    "    hover_text = f\"Country: {row['Country']}<br>Life Expectancy: {row['Value']}<br>Cluster: {row['Cluster']}\"\n",
    "    hover_data.append(hover_text)\n",
    "\n",
    "# Create the scatter plot\n",
    "fig = px.scatter(plot_df, x=np.arange(len(plot_df)), y='Value',\n",
    "                 color='Cluster', hover_data=[plot_df['Country'], plot_df['Value']],\n",
    "                 labels={'x':'Country Index', 'Value':'Life Expectancy', 'color':'Cluster'})\n",
    "\n",
    "# Customize the layout\n",
    "fig.update_layout(\n",
    "    title=\"Fuzzy Clustering of Life Expectancy by Country\",\n",
    "    xaxis_title=\"Country Index\",\n",
    "    yaxis_title=\"Life Expectancy\",\n",
    "    legend_title=\"Cluster\"\n",
    ")\n",
    "\n",
    "# Customize the hover information\n",
    "fig.update_traces(marker=dict(size=12),\n",
    "                  hovertemplate='%{hovertext}',\n",
    "                  hovertext=hover_data)\n",
    "\n",
    "# Show the plot\n",
    "fig.show()"
   ]
  },
  {
   "cell_type": "code",
   "execution_count": null,
   "metadata": {},
   "outputs": [],
   "source": []
  }
 ],
 "metadata": {
  "kernelspec": {
   "display_name": "base",
   "language": "python",
   "name": "python3"
  },
  "language_info": {
   "codemirror_mode": {
    "name": "ipython",
    "version": 3
   },
   "file_extension": ".py",
   "mimetype": "text/x-python",
   "name": "python",
   "nbconvert_exporter": "python",
   "pygments_lexer": "ipython3",
   "version": "3.9.12"
  }
 },
 "nbformat": 4,
 "nbformat_minor": 2
}
