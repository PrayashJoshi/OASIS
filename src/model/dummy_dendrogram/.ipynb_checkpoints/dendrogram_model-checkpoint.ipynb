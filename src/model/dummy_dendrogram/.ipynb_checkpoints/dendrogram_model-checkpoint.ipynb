{
 "cells": [
  {
   "cell_type": "code",
   "execution_count": 54,
   "metadata": {},
   "outputs": [],
   "source": [
    "import pandas as pd\n",
    "import numpy as np\n",
    "import random\n",
    "import operator\n",
    "import math\n",
    "from sklearn.preprocessing import MinMaxScaler\n",
    "import matplotlib.pyplot as plt\n",
    "import seaborn as sns\n",
    "import plotly.express as px\n",
    "from scipy.cluster.hierarchy import dendrogram"
   ]
  },
  {
   "cell_type": "code",
   "execution_count": 55,
   "metadata": {},
   "outputs": [],
   "source": [
    "# Read the dataset\n",
    "file_path = 'RWB_02112023195802159.csv'\n",
    "data = pd.read_csv(file_path)\n",
    "\n",
    "# Filter the dataset for 'Disposable income per capita' and 'Life expectancy at birth'\n",
    "income_life_exp_data = data[data['Indicator'].isin(['Disposable income per capita', 'Life expectancy at birth'])]\n",
    "\n",
    "# Pivot the data to have one row per region with both indicators\n",
    "pivot_data = income_life_exp_data.pivot_table(index=['REG_ID', 'Regions', 'TIME', 'Time'], \n",
    "                                              columns='Indicator', \n",
    "                                              values='Value').reset_index()\n",
    "\n",
    "# Normalize the features\n",
    "scaler = MinMaxScaler()\n",
    "features_to_cluster = pivot_data[['Disposable income per capita', 'Life expectancy at birth']]\n",
    "normalized_features = scaler.fit_transform(features_to_cluster)\n",
    "normalized_df = pd.DataFrame(normalized_features, columns=features_to_cluster.columns)\n"
   ]
  },
  {
   "cell_type": "code",
   "execution_count": 56,
   "metadata": {},
   "outputs": [],
   "source": [
    "def cluster_distance_centroid_link(c1, c2):\n",
    "    return math.sqrt((c2[1]-c1[1])**2+(c2[0]-c1[0])**2)\n",
    "\n",
    "def find_min_clusters(clusters):\n",
    "    curr_cluster_1 = 0\n",
    "    curr_cluster_2 = 1\n",
    "    curr_dist = -1\n",
    "    for i in range(0, len(clusters)):\n",
    "        for y in range(i+1, len(clusters)):\n",
    "            new_dist = cluster_distance_centroid_link(clusters[i], clusters[y])\n",
    "            if curr_dist < 0 or curr_dist > cluster_distance_centroid_link(clusters[i], clusters[y]):\n",
    "                curr_cluster_1 = i\n",
    "                curr_cluster_2 = y\n",
    "                curr_dist = cluster_distance_centroid_link(clusters[i], clusters[y])\n",
    "    return curr_cluster_1, curr_cluster_2, curr_dist"
   ]
  },
  {
   "cell_type": "code",
   "execution_count": 57,
   "metadata": {},
   "outputs": [],
   "source": [
    "def hierarchical_clustering_linkage(df):\n",
    "    # linkage used for dendrogram drawing\n",
    "    linkage = []\n",
    "    \n",
    "    # List of current elements, in their x and y dimensions, zipped together\n",
    "    curr_x = [x for x in df.iloc[:,0]]\n",
    "    curr_y = [y for y in df.iloc[:,1]]\n",
    "    curr_clusters = [list(c) for c in zip(curr_x, curr_y)]\n",
    "    \n",
    "    # Indices of current clusters\n",
    "    idxs = [i for i in normalized_df.index]\n",
    "    \n",
    "    # The number of items in each cluster\n",
    "    items_per_cluster = [1 for i in range(0, len(curr_x))]\n",
    "\n",
    "    while len(curr_clusters) > 1:\n",
    "        # Get cluster indices and distances\n",
    "        c1, c2, curr_dist = find_min_clusters(curr_clusters)\n",
    "        \n",
    "        # Specify new cluster centroids\n",
    "        new_c = []\n",
    "        new_c.append((curr_clusters[c1][0] + curr_clusters[c2][0])/2)\n",
    "        new_c.append((curr_clusters[c1][1] + curr_clusters[c2][1])/2)\n",
    "        \n",
    "        # Remove old clusters from the set of current clusters\n",
    "        curr_clusters.pop(c1)\n",
    "        curr_clusters.pop(c2-1)\n",
    "        \n",
    "        # Increment for new cluster\n",
    "        idxs.append(idxs[-1] + 1)\n",
    "        \n",
    "        # Add new cluster to list of clusters\n",
    "        curr_clusters.append(new_c)\n",
    "        \n",
    "        # Update number of items per cluster, removing old ones and adding in new one\n",
    "        num_items = items_per_cluster[c1] + items_per_cluster[c2]\n",
    "        items_per_cluster.pop(c1)\n",
    "        items_per_cluster.pop(c2-1)\n",
    "        items_per_cluster.append(num_items)\n",
    "        \n",
    "        # Add new iteraion to linkage\n",
    "        linkage.append([idxs[c1], idxs[c2], curr_dist, num_items])\n",
    "        \n",
    "        # Remove old cluster indices\n",
    "        idxs.pop(c1)\n",
    "        idxs.pop(c2-1)\n",
    "    \n",
    "    return linkage"
   ]
  },
  {
   "cell_type": "code",
   "execution_count": 58,
   "metadata": {},
   "outputs": [
    {
     "data": {
      "text/html": [
       "<div>\n",
       "<style scoped>\n",
       "    .dataframe tbody tr th:only-of-type {\n",
       "        vertical-align: middle;\n",
       "    }\n",
       "\n",
       "    .dataframe tbody tr th {\n",
       "        vertical-align: top;\n",
       "    }\n",
       "\n",
       "    .dataframe thead th {\n",
       "        text-align: right;\n",
       "    }\n",
       "</style>\n",
       "<table border=\"1\" class=\"dataframe\">\n",
       "  <thead>\n",
       "    <tr style=\"text-align: right;\">\n",
       "      <th></th>\n",
       "      <th>row label 1</th>\n",
       "      <th>row label 2</th>\n",
       "      <th>distance</th>\n",
       "      <th>no. of items in clust.</th>\n",
       "    </tr>\n",
       "  </thead>\n",
       "  <tbody>\n",
       "    <tr>\n",
       "      <th>cluster 1</th>\n",
       "      <td>167</td>\n",
       "      <td>168</td>\n",
       "      <td>0.000000</td>\n",
       "      <td>2</td>\n",
       "    </tr>\n",
       "    <tr>\n",
       "      <th>cluster 2</th>\n",
       "      <td>169</td>\n",
       "      <td>390</td>\n",
       "      <td>0.000000</td>\n",
       "      <td>3</td>\n",
       "    </tr>\n",
       "    <tr>\n",
       "      <th>cluster 3</th>\n",
       "      <td>212</td>\n",
       "      <td>213</td>\n",
       "      <td>0.000000</td>\n",
       "      <td>2</td>\n",
       "    </tr>\n",
       "    <tr>\n",
       "      <th>cluster 4</th>\n",
       "      <td>124</td>\n",
       "      <td>289</td>\n",
       "      <td>0.000033</td>\n",
       "      <td>2</td>\n",
       "    </tr>\n",
       "    <tr>\n",
       "      <th>cluster 5</th>\n",
       "      <td>223</td>\n",
       "      <td>224</td>\n",
       "      <td>0.000250</td>\n",
       "      <td>2</td>\n",
       "    </tr>\n",
       "    <tr>\n",
       "      <th>...</th>\n",
       "      <td>...</td>\n",
       "      <td>...</td>\n",
       "      <td>...</td>\n",
       "      <td>...</td>\n",
       "    </tr>\n",
       "    <tr>\n",
       "      <th>cluster 385</th>\n",
       "      <td>35</td>\n",
       "      <td>770</td>\n",
       "      <td>0.351924</td>\n",
       "      <td>59</td>\n",
       "    </tr>\n",
       "    <tr>\n",
       "      <th>cluster 386</th>\n",
       "      <td>772</td>\n",
       "      <td>773</td>\n",
       "      <td>0.367345</td>\n",
       "      <td>329</td>\n",
       "    </tr>\n",
       "    <tr>\n",
       "      <th>cluster 387</th>\n",
       "      <td>16</td>\n",
       "      <td>775</td>\n",
       "      <td>0.540456</td>\n",
       "      <td>330</td>\n",
       "    </tr>\n",
       "    <tr>\n",
       "      <th>cluster 388</th>\n",
       "      <td>346</td>\n",
       "      <td>776</td>\n",
       "      <td>0.582397</td>\n",
       "      <td>331</td>\n",
       "    </tr>\n",
       "    <tr>\n",
       "      <th>cluster 389</th>\n",
       "      <td>774</td>\n",
       "      <td>777</td>\n",
       "      <td>0.757306</td>\n",
       "      <td>390</td>\n",
       "    </tr>\n",
       "  </tbody>\n",
       "</table>\n",
       "<p>389 rows × 4 columns</p>\n",
       "</div>"
      ],
      "text/plain": [
       "             row label 1  row label 2  distance  no. of items in clust.\n",
       "cluster 1            167          168  0.000000                       2\n",
       "cluster 2            169          390  0.000000                       3\n",
       "cluster 3            212          213  0.000000                       2\n",
       "cluster 4            124          289  0.000033                       2\n",
       "cluster 5            223          224  0.000250                       2\n",
       "...                  ...          ...       ...                     ...\n",
       "cluster 385           35          770  0.351924                      59\n",
       "cluster 386          772          773  0.367345                     329\n",
       "cluster 387           16          775  0.540456                     330\n",
       "cluster 388          346          776  0.582397                     331\n",
       "cluster 389          774          777  0.757306                     390\n",
       "\n",
       "[389 rows x 4 columns]"
      ]
     },
     "execution_count": 58,
     "metadata": {},
     "output_type": "execute_result"
    }
   ],
   "source": [
    "linkage = hierarchical_clustering_linkage(normalized_df)\n",
    "pd.DataFrame(linkage, \n",
    "             columns=['row label 1', 'row label 2', 'distance', 'no. of items in clust.'],\n",
    "             index=['cluster %d' %(i+1) for i in range(len(linkage))])"
   ]
  },
  {
   "cell_type": "code",
   "execution_count": 59,
   "metadata": {},
   "outputs": [
    {
     "data": {
      "text/plain": [
       "389"
      ]
     },
     "execution_count": 59,
     "metadata": {},
     "output_type": "execute_result"
    }
   ],
   "source": [
    "len(linkage)"
   ]
  },
  {
   "cell_type": "code",
   "execution_count": 31,
   "metadata": {},
   "outputs": [
    {
     "data": {
      "image/png": "[encoded data removed]",
      "text/plain": [
       "<Figure size 432x288 with 1 Axes>"
      ]
     },
     "metadata": {
      "needs_background": "light"
     },
     "output_type": "display_data"
    }
   ],
   "source": [
    "original_indices = [i for i in normalized_df.index]\n",
    "row_dendr = dendrogram(official_grouping, labels=original_indices)"
   ]
  },
  {
   "cell_type": "code",
   "execution_count": null,
   "metadata": {},
   "outputs": [],
   "source": []
  },
  {
   "cell_type": "code",
   "execution_count": null,
   "metadata": {},
   "outputs": [],
   "source": []
  }
 ],
 "metadata": {
  "kernelspec": {
   "display_name": "Python 3",
   "language": "python",
   "name": "python3"
  },
  "language_info": {
   "codemirror_mode": {
    "name": "ipython",
    "version": 3
   },
   "file_extension": ".py",
   "mimetype": "text/x-python",
   "name": "python",
   "nbconvert_exporter": "python",
   "pygments_lexer": "ipython3",
   "version": "3.8.8"
  }
 },
 "nbformat": 4,
 "nbformat_minor": 2
}
