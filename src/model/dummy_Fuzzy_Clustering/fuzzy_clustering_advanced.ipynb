{
 "cells": [
  {
   "cell_type": "code",
   "execution_count": 7,
   "metadata": {},
   "outputs": [],
   "source": [
    "import pandas as pd\n",
    "import numpy as np\n",
    "import random\n",
    "import operator\n",
    "import math\n",
    "from sklearn.preprocessing import MinMaxScaler\n",
    "import matplotlib.pyplot as plt\n",
    "import seaborn as sns\n",
    "import plotly.express as px\n"
   ]
  },
  {
   "cell_type": "code",
   "execution_count": 8,
   "metadata": {},
   "outputs": [],
   "source": [
    "# Read the dataset\n",
    "file_path = 'RWB_02112023195802159.csv'\n",
    "data = pd.read_csv(file_path)\n",
    "\n",
    "# Filter the dataset for 'Disposable income per capita' and 'Life expectancy at birth'\n",
    "income_life_exp_data = data[data['Indicator'].isin(['Disposable income per capita', 'Life expectancy at birth'])]\n",
    "\n",
    "# Pivot the data to have one row per region with both indicators\n",
    "pivot_data = income_life_exp_data.pivot_table(index=['REG_ID', 'Regions', 'TIME', 'Time'], \n",
    "                                              columns='Indicator', \n",
    "                                              values='Value').reset_index()\n",
    "\n",
    "# Normalize the features\n",
    "scaler = MinMaxScaler()\n",
    "features_to_cluster = pivot_data[['Disposable income per capita', 'Life expectancy at birth']]\n",
    "normalized_features = scaler.fit_transform(features_to_cluster)\n",
    "normalized_df = pd.DataFrame(normalized_features, columns=features_to_cluster.columns)\n"
   ]
  },
  {
   "cell_type": "code",
   "execution_count": 9,
   "metadata": {},
   "outputs": [],
   "source": [
    "# Initialize membership matrix with random probabilities for each cluster\n",
    "def initialize_membership_matrix(n, k):\n",
    "    membership_mat = []\n",
    "    for i in range(n):\n",
    "        random_num_list = [random.random() for _ in range(k)]\n",
    "        summation = sum(random_num_list)\n",
    "        temp_list = [x / summation for x in random_num_list]\n",
    "        membership_mat.append(temp_list)\n",
    "    return membership_mat\n",
    "\n",
    "# Calculate the centers of clusters using the membership matrix\n",
    "def calculate_cluster_centers(membership_mat, df, m, k):\n",
    "    cluster_mem_val = list(zip(*membership_mat))\n",
    "    cluster_centers = []\n",
    "    for j in range(k):\n",
    "        x = list(cluster_mem_val[j])\n",
    "        x_raised = [e ** m for e in x]\n",
    "        denominator = sum(x_raised)\n",
    "        temp_num = []\n",
    "        for i in range(len(df)):\n",
    "            data_point = list(df.iloc[i])\n",
    "            prod = [x_raised[i] * val for val in data_point]\n",
    "            temp_num.append(prod)\n",
    "        numerator = map(sum, zip(*temp_num))\n",
    "        center = [z / denominator for z in numerator]\n",
    "        cluster_centers.append(center)\n",
    "    return cluster_centers\n",
    "\n",
    "# Update membership values based on the cluster centers\n",
    "def update_membership_values(membership_mat, cluster_centers, df, m, k):\n",
    "    p = float(2 / (m - 1))\n",
    "    for i in range(len(df)):\n",
    "        x = list(df.iloc[i])\n",
    "        distances = [np.linalg.norm(list(map(operator.sub, x, cluster_centers[j]))) for j in range(k)]\n",
    "        for j in range(k):\n",
    "            den = sum([math.pow(distances[j] / distances[c], p) for c in range(k)])\n",
    "            membership_mat[i][j] = float(1 / den) if den != 0 else 0\n",
    "    return membership_mat\n",
    "\n",
    "# Assign data points to clusters based on maximum membership value\n",
    "def get_clusters(membership_mat):\n",
    "    cluster_labels = []\n",
    "    for i in range(len(membership_mat)):\n",
    "        max_val, idx = max((val, idx) for (idx, val) in enumerate(membership_mat[i]))\n",
    "        cluster_labels.append(idx)\n",
    "    return cluster_labels\n",
    "\n",
    "# Fuzzy C-Means clustering function\n",
    "def fuzzy_c_means_clustering(df, n, k, m, MAX_ITER):\n",
    "    membership_mat = initialize_membership_matrix(n, k)\n",
    "    curr = 0\n",
    "    while curr <= MAX_ITER:\n",
    "        cluster_centers = calculate_cluster_centers(membership_mat, df, m, k)\n",
    "        membership_mat = update_membership_values(membership_mat, cluster_centers, df, m, k)\n",
    "        cluster_labels = get_clusters(membership_mat)\n",
    "        curr += 1\n",
    "    return cluster_labels, cluster_centers"
   ]
  },
  {
   "cell_type": "code",
   "execution_count": 10,
   "metadata": {},
   "outputs": [],
   "source": [
    "# Perform fuzzy C-Means clustering\n",
    "k = 4  # Number of clusters\n",
    "MAX_ITER = 100\n",
    "n = len(normalized_df)  # Number of data points\n",
    "m = 2.00  # Fuzzy parameter\n",
    "labels, cluster_centers = fuzzy_c_means_clustering(normalized_df, n, k, m, MAX_ITER)\n"
   ]
  },
  {
   "cell_type": "code",
   "execution_count": 11,
   "metadata": {},
   "outputs": [
    {
     "data": {
      "application/vnd.plotly.v1+json": {
       "config": {
        "plotlyServerURL": "https://plot.ly"
       },
       "data": [
        {
         "customdata": [
          [
           "Burgenland (AT)"
          ],
          [
           "Lower Austria"
          ],
          [
           "Vienna"
          ],
          [
           "Carinthia"
          ],
          [
           "Styria"
          ],
          [
           "Upper Austria"
          ],
          [
           "Salzburg"
          ],
          [
           "Tyrol"
          ],
          [
           "Vorarlberg"
          ],
          [
           "New South Wales"
          ],
          [
           "Victoria"
          ],
          [
           "Queensland"
          ],
          [
           "South Australia"
          ],
          [
           "Western Australia"
          ],
          [
           "Tasmania"
          ],
          [
           "Northern Territory (NT)"
          ],
          [
           "Australian Capital Territory (ACT)"
          ],
          [
           "Australia"
          ],
          [
           "Austria"
          ],
          [
           "Brussels Capital Region"
          ],
          [
           "Flemish Region"
          ],
          [
           "Wallonia"
          ],
          [
           "Belgium"
          ],
          [
           "Newfoundland and Labrador"
          ],
          [
           "Prince Edward Island"
          ],
          [
           "Nova Scotia"
          ],
          [
           "New Brunswick"
          ],
          [
           "Quebec"
          ],
          [
           "Ontario"
          ],
          [
           "Manitoba"
          ],
          [
           "Saskatchewan"
          ],
          [
           "Alberta"
          ],
          [
           "British Columbia"
          ],
          [
           "Yukon"
          ],
          [
           "Northwest Territories"
          ],
          [
           "Nunavut"
          ],
          [
           "Canada"
          ],
          [
           "Lake Geneva Region"
          ],
          [
           "Espace Mittelland"
          ],
          [
           "Northwestern Switzerland "
          ],
          [
           "Zurich"
          ],
          [
           "Eastern Switzerland"
          ],
          [
           "Central Switzerland"
          ],
          [
           "Ticino"
          ],
          [
           "Switzerland"
          ],
          [
           "Chile"
          ],
          [
           "Tarapacá"
          ],
          [
           "Antofagasta"
          ],
          [
           "Atacama"
          ],
          [
           "Coquimbo"
          ],
          [
           "Valparaíso"
          ],
          [
           "O'Higgins"
          ],
          [
           "Maule"
          ],
          [
           "Bío-Bío"
          ],
          [
           "Araucanía"
          ],
          [
           "Los Lagos"
          ],
          [
           "Aysén"
          ],
          [
           "Magallanes y Antártica"
          ],
          [
           "Santiago Metropolitan"
          ],
          [
           "Los Rios"
          ],
          [
           "Arica Y Parinacota"
          ],
          [
           "Prague"
          ],
          [
           "Central Bohemian Region"
          ],
          [
           "Southwest"
          ],
          [
           "Northwest"
          ],
          [
           "Northeast"
          ],
          [
           "Southeast"
          ],
          [
           "Central Moravia"
          ],
          [
           "Moravia-Silesia"
          ],
          [
           "Czech Republic"
          ],
          [
           "Baden-Württemberg "
          ],
          [
           "Bavaria"
          ],
          [
           "Berlin"
          ],
          [
           "Brandenburg"
          ],
          [
           "Bremen "
          ],
          [
           "Hamburg"
          ],
          [
           "Hesse"
          ],
          [
           "Mecklenburg-Vorpommern"
          ],
          [
           "Lower Saxony "
          ],
          [
           "North Rhine-Westphalia"
          ],
          [
           "Rhineland-Palatinate"
          ],
          [
           "Saarland"
          ],
          [
           "Saxony"
          ],
          [
           "Saxony-Anhalt"
          ],
          [
           "Schleswig-Holstein"
          ],
          [
           "Thuringia"
          ],
          [
           "Germany"
          ],
          [
           "Capital (DK)"
          ],
          [
           "Zealand"
          ],
          [
           "Southern Denmark"
          ],
          [
           "Central Jutland"
          ],
          [
           "Northern Jutland"
          ],
          [
           "Denmark"
          ],
          [
           "North Estonia"
          ],
          [
           "West Estonia"
          ],
          [
           "Central Estonia"
          ],
          [
           "Northeast Estonia"
          ],
          [
           "Southern Estonia"
          ],
          [
           "Galicia"
          ],
          [
           "Asturias"
          ],
          [
           "Cantabria"
          ],
          [
           "Basque Country"
          ],
          [
           "Navarra"
          ],
          [
           "La Rioja"
          ],
          [
           "Aragon"
          ],
          [
           "Madrid"
          ],
          [
           "Castile and León"
          ],
          [
           "Castile-La Mancha"
          ],
          [
           "Extremadura"
          ],
          [
           "Catalonia"
          ],
          [
           "Valencia"
          ],
          [
           "Balearic Islands"
          ],
          [
           "Andalusia"
          ],
          [
           "Murcia"
          ],
          [
           "Ceuta "
          ],
          [
           "Melilla"
          ],
          [
           "Canary Islands"
          ],
          [
           "Spain"
          ],
          [
           "Estonia"
          ],
          [
           "Western Finland"
          ],
          [
           "Helsinki-Uusimaa"
          ],
          [
           "Southern Finland"
          ],
          [
           "Eastern and Northern Finland"
          ],
          [
           "Åland"
          ],
          [
           "Finland"
          ],
          [
           "Ile de France"
          ],
          [
           "Champagne-Ardenne"
          ],
          [
           "Picardy"
          ],
          [
           "Upper Normandy"
          ],
          [
           "Centre (FR)"
          ],
          [
           "Lower Normandy "
          ],
          [
           "Burgundy"
          ],
          [
           "Nord-Pas-de-Calais"
          ],
          [
           "Lorraine"
          ],
          [
           "Alsace "
          ],
          [
           "Franche-Comté"
          ],
          [
           "Pays de la Loire"
          ],
          [
           "Brittany"
          ],
          [
           "Poitou-Charentes"
          ],
          [
           "Aquitaine"
          ],
          [
           "Midi-Pyrénées"
          ],
          [
           "Limousin"
          ],
          [
           "Rhône-Alpes"
          ],
          [
           "Auvergne"
          ],
          [
           "Languedoc-Roussillon "
          ],
          [
           "Provence-Alpes-Côte d'Azur"
          ],
          [
           "Corsica"
          ],
          [
           "France"
          ],
          [
           "United Kingdom"
          ],
          [
           "Greece"
          ],
          [
           "Central Hungary"
          ],
          [
           "Central Transdanubia"
          ],
          [
           "Western Transdanubia"
          ],
          [
           "Southern Transdanubia"
          ],
          [
           "Northern Hungary"
          ],
          [
           "Northern Great Plain"
          ],
          [
           "Southern Great Plain"
          ],
          [
           "Hungary"
          ],
          [
           "Border, Midland and Western"
          ],
          [
           "Southern and Eastern"
          ],
          [
           "Jerusalem District"
          ],
          [
           "Northern District"
          ],
          [
           "Haifa District"
          ],
          [
           "Central District"
          ],
          [
           "Tel Aviv District"
          ],
          [
           "Southern District"
          ],
          [
           "Ireland"
          ],
          [
           "Capital Region"
          ],
          [
           "Other Regions"
          ],
          [
           "Iceland"
          ],
          [
           "Israel"
          ],
          [
           "Italy"
          ],
          [
           "Piedmont"
          ],
          [
           "Aosta Valley"
          ],
          [
           "Liguria"
          ],
          [
           "Lombardy"
          ],
          [
           "Abruzzo"
          ],
          [
           "Molise"
          ],
          [
           "Campania"
          ],
          [
           "Apulia"
          ],
          [
           "Basilicata "
          ],
          [
           "Calabria"
          ],
          [
           "Sicily"
          ],
          [
           "Sardinia"
          ],
          [
           "Province of Bolzano-Bozen"
          ],
          [
           "Province of Trento"
          ],
          [
           "Veneto"
          ],
          [
           "Friuli-Venezia Giulia"
          ],
          [
           "Emilia–Romagna"
          ],
          [
           "Tuscany"
          ],
          [
           "Umbria"
          ],
          [
           "Marche"
          ],
          [
           "Lazio"
          ],
          [
           "Hokkaido"
          ],
          [
           "Tohoku"
          ],
          [
           "Northern-Kanto, Koshin"
          ],
          [
           "Southern-Kanto"
          ],
          [
           "Hokuriku"
          ],
          [
           "Toukai"
          ],
          [
           "Kansai region"
          ],
          [
           "Chugoku"
          ],
          [
           "Shikoku"
          ],
          [
           "Kyushu, Okinawa"
          ],
          [
           "Japan"
          ],
          [
           "Korea"
          ],
          [
           "Capital Region (KR)"
          ],
          [
           "Gyeongnam Region"
          ],
          [
           "Gyeonbuk Region"
          ],
          [
           "Jeolla Region"
          ],
          [
           "Chungcheong Region"
          ],
          [
           "Gangwon Region"
          ],
          [
           "Jeju"
          ],
          [
           "Luxembourg"
          ],
          [
           "Luxembourg"
          ],
          [
           "Aguascalientes"
          ],
          [
           "Baja California Norte"
          ],
          [
           "Baja California Sur"
          ],
          [
           "Campeche"
          ],
          [
           "Coahuila"
          ],
          [
           "Colima"
          ],
          [
           "Chiapas"
          ],
          [
           "Chihuahua"
          ],
          [
           "Federal District (MX)"
          ],
          [
           "Durango"
          ],
          [
           "Guanajuato"
          ],
          [
           "Guerrero"
          ],
          [
           "Hidalgo"
          ],
          [
           "Jalisco"
          ],
          [
           "Mexico"
          ],
          [
           "Michoacan"
          ],
          [
           "Morelos"
          ],
          [
           "Nayarit"
          ],
          [
           "Nuevo Leon"
          ],
          [
           "Oaxaca"
          ],
          [
           "Puebla"
          ],
          [
           "Queretaro"
          ],
          [
           "Quintana Roo"
          ],
          [
           "San Luis Potosi"
          ],
          [
           "Sinaloa"
          ],
          [
           "Sonora"
          ],
          [
           "Tabasco"
          ],
          [
           "Tamaulipas"
          ],
          [
           "Tlaxcala"
          ],
          [
           "Veracruz"
          ],
          [
           "Yucatan"
          ],
          [
           "Zacatecas"
          ],
          [
           "Mexico"
          ],
          [
           "Netherlands"
          ],
          [
           "Oslo and Akershus"
          ],
          [
           "Hedmark and Oppland"
          ],
          [
           "South-Eastern Norway"
          ],
          [
           "Agder and Rogaland"
          ],
          [
           "Western Norway"
          ],
          [
           "Trøndelag"
          ],
          [
           "Northern Norway"
          ],
          [
           "Norway"
          ],
          [
           "New Zealand"
          ],
          [
           "Lodzkie"
          ],
          [
           "Mazovia"
          ],
          [
           "Lesser Poland "
          ],
          [
           "Silesia"
          ],
          [
           "Lublin Province "
          ],
          [
           "Podkarpacia"
          ],
          [
           "Swietokrzyskie"
          ],
          [
           "Podlasie"
          ],
          [
           "Greater Poland"
          ],
          [
           "West Pomerania"
          ],
          [
           "Lubusz"
          ],
          [
           "Lower Silesia "
          ],
          [
           "Opole region"
          ],
          [
           "Kuyavian-Pomerania"
          ],
          [
           "Warmian-Masuria"
          ],
          [
           "Pomerania"
          ],
          [
           "Poland"
          ],
          [
           "Portugal"
          ],
          [
           "North (PT)"
          ],
          [
           "Algarve"
          ],
          [
           "Central Portugal"
          ],
          [
           "Lisbon"
          ],
          [
           "Alentejo"
          ],
          [
           "Azores (PT)"
          ],
          [
           "Madeira (PT)"
          ],
          [
           "Stockholm"
          ],
          [
           "East Middle Sweden"
          ],
          [
           "Småland with Islands"
          ],
          [
           "South Sweden"
          ],
          [
           "West Sweden"
          ],
          [
           "North Middle Sweden"
          ],
          [
           "Central Norrland"
          ],
          [
           "Upper Norrland"
          ],
          [
           "Eastern Slovenia"
          ],
          [
           "Western Slovenia"
          ],
          [
           "Bratislava Region"
          ],
          [
           "West Slovakia"
          ],
          [
           "Central Slovakia"
          ],
          [
           "East Slovakia"
          ],
          [
           "Slovak Republic"
          ],
          [
           "Slovenia"
          ],
          [
           "Sweden"
          ],
          [
           "Istanbul"
          ],
          [
           "Thrace"
          ],
          [
           "Southern Marmara - West"
          ],
          [
           "Izmir"
          ],
          [
           "Southern Aegean"
          ],
          [
           "Northern Aegean"
          ],
          [
           "Eastern Marmara - South "
          ],
          [
           "Eastern Marmara - North"
          ],
          [
           "Ankara"
          ],
          [
           "Central Anatolia - West and South"
          ],
          [
           "Mediterranean region - West"
          ],
          [
           "Mediterranean region - Middle"
          ],
          [
           "Mediterranean region - East "
          ],
          [
           "Central Anatolia - Middle"
          ],
          [
           "Central Anatolia - East"
          ],
          [
           "Western Black Sea - West"
          ],
          [
           "Western Black Sea - Middle and East"
          ],
          [
           "Middle Black Sea"
          ],
          [
           "Eastern Black Sea"
          ],
          [
           "Northeastern Anatolia - West"
          ],
          [
           "Northeastern Anatolia - East"
          ],
          [
           "Eastern Anatolia - West"
          ],
          [
           "Eastern Anatolia - East"
          ],
          [
           "Southeastern Anatolia - West "
          ],
          [
           "Southeastern Anatolia - Middle"
          ],
          [
           "Southeastern Anatolia - East"
          ],
          [
           "Türkiye"
          ],
          [
           "North East England"
          ],
          [
           "North West England"
          ],
          [
           "Yorkshire and The Humber"
          ],
          [
           "East Midlands"
          ],
          [
           "West Midlands"
          ],
          [
           "East of England"
          ],
          [
           "Greater London"
          ],
          [
           "South East England"
          ],
          [
           "South West England"
          ],
          [
           "Wales"
          ],
          [
           "Scotland"
          ],
          [
           "Northern Ireland"
          ],
          [
           "Alabama"
          ],
          [
           "Alaska"
          ],
          [
           "Arizona"
          ],
          [
           "Arkansas"
          ],
          [
           "California"
          ],
          [
           "Colorado"
          ],
          [
           "Connecticut"
          ],
          [
           "Delaware"
          ],
          [
           "District of Columbia"
          ],
          [
           "Florida"
          ],
          [
           "Georgia"
          ],
          [
           "Hawaii"
          ],
          [
           "Idaho"
          ],
          [
           "Illinois"
          ],
          [
           "Indiana"
          ],
          [
           "Iowa"
          ],
          [
           "Kansas"
          ],
          [
           "Kentucky"
          ],
          [
           "Louisiana"
          ],
          [
           "Maine"
          ],
          [
           "Maryland"
          ],
          [
           "Massachusetts"
          ],
          [
           "Michigan"
          ],
          [
           "Minnesota"
          ],
          [
           "Mississippi"
          ],
          [
           "Missouri"
          ],
          [
           "Montana (US)"
          ],
          [
           "Nebraska"
          ],
          [
           "Nevada"
          ],
          [
           "New Hampshire"
          ],
          [
           "New Jersey"
          ],
          [
           "New Mexico"
          ],
          [
           "New York"
          ],
          [
           "North Carolina"
          ],
          [
           "North Dakota"
          ],
          [
           "Ohio"
          ],
          [
           "Oklahoma"
          ],
          [
           "Oregon"
          ],
          [
           "Pennsylvania"
          ],
          [
           "Rhode Island"
          ],
          [
           "South Carolina"
          ],
          [
           "South Dakota"
          ],
          [
           "Tennessee"
          ],
          [
           "Texas"
          ],
          [
           "Utah"
          ],
          [
           "Vermont"
          ],
          [
           "Virginia"
          ],
          [
           "Washington"
          ],
          [
           "West Virginia"
          ],
          [
           "Wisconsin"
          ],
          [
           "Wyoming"
          ],
          [
           "United States"
          ]
         ],
         "hovertemplate": "%{hovertext}",
         "hovertext": [
          "Region: Burgenland (AT)<br>Disposable Income: 23661.0<br>Life Expectancy: 80.9<br>Cluster: 1",
          "Region: Lower Austria<br>Disposable Income: 24653.0<br>Life Expectancy: 80.8<br>Cluster: 1",
          "Region: Vienna<br>Disposable Income: 23243.0<br>Life Expectancy: 80.0<br>Cluster: 1",
          "Region: Carinthia<br>Disposable Income: 22843.0<br>Life Expectancy: 81.5<br>Cluster: 3",
          "Region: Styria<br>Disposable Income: 23265.0<br>Life Expectancy: 81.5<br>Cluster: 3",
          "Region: Upper Austria<br>Disposable Income: 23955.0<br>Life Expectancy: 81.2<br>Cluster: 1",
          "Region: Salzburg<br>Disposable Income: 24225.0<br>Life Expectancy: 82.0<br>Cluster: 3",
          "Region: Tyrol<br>Disposable Income: 23212.0<br>Life Expectancy: 82.2<br>Cluster: 3",
          "Region: Vorarlberg<br>Disposable Income: 24616.0<br>Life Expectancy: 82.0<br>Cluster: 3",
          "Region: New South Wales<br>Disposable Income: 27742.0<br>Life Expectancy: 82.2<br>Cluster: 3",
          "Region: Victoria<br>Disposable Income: 24513.0<br>Life Expectancy: 82.7<br>Cluster: 3",
          "Region: Queensland<br>Disposable Income: 26102.0<br>Life Expectancy: 81.9<br>Cluster: 3",
          "Region: South Australia<br>Disposable Income: 25435.0<br>Life Expectancy: 82.2<br>Cluster: 3",
          "Region: Western Australia<br>Disposable Income: 31803.0<br>Life Expectancy: 82.6<br>Cluster: 3",
          "Region: Tasmania<br>Disposable Income: 22907.0<br>Life Expectancy: 80.7<br>Cluster: 1",
          "Region: Northern Territory (NT)<br>Disposable Income: 32966.0<br>Life Expectancy: 77.1<br>Cluster: 0",
          "Region: Australian Capital Territory (ACT)<br>Disposable Income: 50393.0<br>Life Expectancy: 83.4<br>Cluster: 0",
          "Region: Australia<br>Disposable Income: 27204.0<br>Life Expectancy: 82.2<br>Cluster: 3",
          "Region: Austria<br>Disposable Income: 23743.0<br>Life Expectancy: 81.2<br>Cluster: 1",
          "Region: Brussels Capital Region<br>Disposable Income: 18468.0<br>Life Expectancy: 80.6<br>Cluster: 1",
          "Region: Flemish Region<br>Disposable Income: 21148.0<br>Life Expectancy: 81.6<br>Cluster: 3",
          "Region: Wallonia<br>Disposable Income: 18261.0<br>Life Expectancy: 79.1<br>Cluster: 1",
          "Region: Belgium<br>Disposable Income: 19944.0<br>Life Expectancy: 80.7<br>Cluster: 1",
          "Region: Newfoundland and Labrador<br>Disposable Income: 23243.0<br>Life Expectancy: 79.5<br>Cluster: 1",
          "Region: Prince Edward Island<br>Disposable Income: 19460.0<br>Life Expectancy: 80.5<br>Cluster: 1",
          "Region: Nova Scotia<br>Disposable Income: 20317.0<br>Life Expectancy: 80.3<br>Cluster: 1",
          "Region: New Brunswick<br>Disposable Income: 20190.0<br>Life Expectancy: 80.8<br>Cluster: 1",
          "Region: Quebec<br>Disposable Income: 19706.0<br>Life Expectancy: 81.5<br>Cluster: 1",
          "Region: Ontario<br>Disposable Income: 22376.0<br>Life Expectancy: 81.8<br>Cluster: 3",
          "Region: Manitoba<br>Disposable Income: 20535.0<br>Life Expectancy: 80.0<br>Cluster: 1",
          "Region: Saskatchewan<br>Disposable Income: 24326.0<br>Life Expectancy: 79.7<br>Cluster: 1",
          "Region: Alberta<br>Disposable Income: 29664.0<br>Life Expectancy: 81.3<br>Cluster: 3",
          "Region: British Columbia<br>Disposable Income: 23293.0<br>Life Expectancy: 82.3<br>Cluster: 3",
          "Region: Yukon<br>Disposable Income: 30199.0<br>Life Expectancy: 77.4<br>Cluster: 0",
          "Region: Northwest Territories<br>Disposable Income: 30203.0<br>Life Expectancy: 78.2<br>Cluster: 0",
          "Region: Nunavut<br>Disposable Income: 23181.0<br>Life Expectancy: 71.3<br>Cluster: 2",
          "Region: Canada<br>Disposable Income: 22630.0<br>Life Expectancy: 81.5<br>Cluster: 3",
          "Region: Lake Geneva Region<br>Disposable Income: 20880.0<br>Life Expectancy: 83.2<br>Cluster: 3",
          "Region: Espace Mittelland<br>Disposable Income: 19908.0<br>Life Expectancy: 82.5<br>Cluster: 3",
          "Region: Northwestern Switzerland <br>Disposable Income: 22632.0<br>Life Expectancy: 82.9<br>Cluster: 3",
          "Region: Zurich<br>Disposable Income: 26028.0<br>Life Expectancy: 83.0<br>Cluster: 3",
          "Region: Eastern Switzerland<br>Disposable Income: 20484.0<br>Life Expectancy: 82.7<br>Cluster: 3",
          "Region: Central Switzerland<br>Disposable Income: 22428.0<br>Life Expectancy: 83.2<br>Cluster: 3",
          "Region: Ticino<br>Disposable Income: 19572.0<br>Life Expectancy: 83.8<br>Cluster: 3",
          "Region: Switzerland<br>Disposable Income: 21849.0<br>Life Expectancy: 82.9<br>Cluster: 3",
          "Region: Chile<br>Disposable Income: 6925.0<br>Life Expectancy: 78.7<br>Cluster: 2",
          "Region: Tarapacá<br>Disposable Income: 6154.0<br>Life Expectancy: 77.0<br>Cluster: 2",
          "Region: Antofagasta<br>Disposable Income: 8243.0<br>Life Expectancy: 79.0<br>Cluster: 1",
          "Region: Atacama<br>Disposable Income: 6531.0<br>Life Expectancy: 78.9<br>Cluster: 2",
          "Region: Coquimbo<br>Disposable Income: 5173.0<br>Life Expectancy: 78.5<br>Cluster: 2",
          "Region: Valparaíso<br>Disposable Income: 6021.0<br>Life Expectancy: 77.9<br>Cluster: 2",
          "Region: O'Higgins<br>Disposable Income: 5542.0<br>Life Expectancy: 77.8<br>Cluster: 2",
          "Region: Maule<br>Disposable Income: 5017.0<br>Life Expectancy: 78.2<br>Cluster: 2",
          "Region: Bío-Bío<br>Disposable Income: 5393.0<br>Life Expectancy: 77.4<br>Cluster: 2",
          "Region: Araucanía<br>Disposable Income: 5160.0<br>Life Expectancy: 76.7<br>Cluster: 2",
          "Region: Los Lagos<br>Disposable Income: 5562.0<br>Life Expectancy: 78.9<br>Cluster: 2",
          "Region: Aysén<br>Disposable Income: 7958.0<br>Life Expectancy: 77.3<br>Cluster: 2",
          "Region: Magallanes y Antártica<br>Disposable Income: 8619.0<br>Life Expectancy: 77.4<br>Cluster: 2",
          "Region: Santiago Metropolitan<br>Disposable Income: 8670.0<br>Life Expectancy: 77.4<br>Cluster: 2",
          "Region: Los Rios<br>Disposable Income: 5330.0<br>Life Expectancy: 77.7<br>Cluster: 2",
          "Region: Arica Y Parinacota<br>Disposable Income: 5722.0<br>Life Expectancy: 79.2<br>Cluster: 2",
          "Region: Prague<br>Disposable Income: 15968.0<br>Life Expectancy: 79.8<br>Cluster: 1",
          "Region: Central Bohemian Region<br>Disposable Income: 13062.0<br>Life Expectancy: 78.1<br>Cluster: 2",
          "Region: Southwest<br>Disposable Income: 11871.0<br>Life Expectancy: 78.2<br>Cluster: 2",
          "Region: Northwest<br>Disposable Income: 10657.0<br>Life Expectancy: 76.3<br>Cluster: 2",
          "Region: Northeast<br>Disposable Income: 11487.0<br>Life Expectancy: 78.4<br>Cluster: 2",
          "Region: Southeast<br>Disposable Income: 12033.0<br>Life Expectancy: 78.7<br>Cluster: 1",
          "Region: Central Moravia<br>Disposable Income: 11057.0<br>Life Expectancy: 78.0<br>Cluster: 2",
          "Region: Moravia-Silesia<br>Disposable Income: 10876.0<br>Life Expectancy: 77.0<br>Cluster: 2",
          "Region: Czech Republic<br>Disposable Income: 12353.0<br>Life Expectancy: 78.3<br>Cluster: 2",
          "Region: Baden-Württemberg <br>Disposable Income: 25288.0<br>Life Expectancy: 81.9<br>Cluster: 3",
          "Region: Bavaria<br>Disposable Income: 26203.0<br>Life Expectancy: 81.3<br>Cluster: 1",
          "Region: Berlin<br>Disposable Income: 20244.0<br>Life Expectancy: 80.5<br>Cluster: 1",
          "Region: Brandenburg<br>Disposable Income: 20746.0<br>Life Expectancy: 80.0<br>Cluster: 1",
          "Region: Bremen <br>Disposable Income: 23228.0<br>Life Expectancy: 79.5<br>Cluster: 1",
          "Region: Hamburg<br>Disposable Income: 25315.0<br>Life Expectancy: 80.6<br>Cluster: 1",
          "Region: Hesse<br>Disposable Income: 24308.0<br>Life Expectancy: 81.0<br>Cluster: 1",
          "Region: Mecklenburg-Vorpommern<br>Disposable Income: 19604.0<br>Life Expectancy: 79.6<br>Cluster: 1",
          "Region: Lower Saxony <br>Disposable Income: 22726.0<br>Life Expectancy: 80.2<br>Cluster: 1",
          "Region: North Rhine-Westphalia<br>Disposable Income: 23489.0<br>Life Expectancy: 80.2<br>Cluster: 1",
          "Region: Rhineland-Palatinate<br>Disposable Income: 24869.0<br>Life Expectancy: 80.7<br>Cluster: 1",
          "Region: Saarland<br>Disposable Income: 22352.0<br>Life Expectancy: 79.6<br>Cluster: 1",
          "Region: Saxony<br>Disposable Income: 20476.0<br>Life Expectancy: 80.5<br>Cluster: 1",
          "Region: Saxony-Anhalt<br>Disposable Income: 19990.0<br>Life Expectancy: 79.3<br>Cluster: 1",
          "Region: Schleswig-Holstein<br>Disposable Income: 24048.0<br>Life Expectancy: 80.3<br>Cluster: 1",
          "Region: Thuringia<br>Disposable Income: 20131.0<br>Life Expectancy: 80.2<br>Cluster: 1",
          "Region: Germany<br>Disposable Income: 23601.0<br>Life Expectancy: 80.9<br>Cluster: 1",
          "Region: Capital (DK)<br>Disposable Income: 18143.0<br>Life Expectancy: 80.5<br>Cluster: 1",
          "Region: Zealand<br>Disposable Income: 17493.0<br>Life Expectancy: 79.9<br>Cluster: 1",
          "Region: Southern Denmark<br>Disposable Income: 17089.0<br>Life Expectancy: 80.7<br>Cluster: 1",
          "Region: Central Jutland<br>Disposable Income: 17215.0<br>Life Expectancy: 81.2<br>Cluster: 1",
          "Region: Northern Jutland<br>Disposable Income: 17364.0<br>Life Expectancy: 80.5<br>Cluster: 1",
          "Region: Denmark<br>Disposable Income: 17517.0<br>Life Expectancy: 80.4<br>Cluster: 1",
          "Region: North Estonia<br>Disposable Income: 10523.0<br>Life Expectancy: 77.5<br>Cluster: 2",
          "Region: West Estonia<br>Disposable Income: 7692.0<br>Life Expectancy: 76.3<br>Cluster: 2",
          "Region: Central Estonia<br>Disposable Income: 9035.0<br>Life Expectancy: 75.7<br>Cluster: 2",
          "Region: Northeast Estonia<br>Disposable Income: 5709.0<br>Life Expectancy: 72.3<br>Cluster: 2",
          "Region: Southern Estonia<br>Disposable Income: 8247.0<br>Life Expectancy: 76.5<br>Cluster: 2",
          "Region: Galicia<br>Disposable Income: 16317.0<br>Life Expectancy: 82.9<br>Cluster: 3",
          "Region: Asturias<br>Disposable Income: 18066.0<br>Life Expectancy: 82.5<br>Cluster: 3",
          "Region: Cantabria<br>Disposable Income: 17242.0<br>Life Expectancy: 83.4<br>Cluster: 3",
          "Region: Basque Country<br>Disposable Income: 22884.0<br>Life Expectancy: 83.7<br>Cluster: 3",
          "Region: Navarra<br>Disposable Income: 21896.0<br>Life Expectancy: 84.0<br>Cluster: 3",
          "Region: La Rioja<br>Disposable Income: 18340.0<br>Life Expectancy: 84.0<br>Cluster: 3",
          "Region: Aragon<br>Disposable Income: 19007.0<br>Life Expectancy: 83.4<br>Cluster: 3",
          "Region: Madrid<br>Disposable Income: 20925.0<br>Life Expectancy: 84.8<br>Cluster: 3",
          "Region: Castile and León<br>Disposable Income: 17365.0<br>Life Expectancy: 84.0<br>Cluster: 3",
          "Region: Castile-La Mancha<br>Disposable Income: 14224.0<br>Life Expectancy: 83.5<br>Cluster: 3",
          "Region: Extremadura<br>Disposable Income: 13145.0<br>Life Expectancy: 82.2<br>Cluster: 3",
          "Region: Catalonia<br>Disposable Income: 19447.0<br>Life Expectancy: 83.4<br>Cluster: 3",
          "Region: Valencia<br>Disposable Income: 15478.0<br>Life Expectancy: 82.8<br>Cluster: 3",
          "Region: Balearic Islands<br>Disposable Income: 17243.0<br>Life Expectancy: 82.9<br>Cluster: 3",
          "Region: Andalusia<br>Disposable Income: 13789.0<br>Life Expectancy: 81.8<br>Cluster: 3",
          "Region: Murcia<br>Disposable Income: 14263.0<br>Life Expectancy: 82.7<br>Cluster: 3",
          "Region: Ceuta <br>Disposable Income: 15132.0<br>Life Expectancy: 79.7<br>Cluster: 1",
          "Region: Melilla<br>Disposable Income: 13776.0<br>Life Expectancy: 81.0<br>Cluster: 1",
          "Region: Canary Islands<br>Disposable Income: 14654.0<br>Life Expectancy: 82.7<br>Cluster: 3",
          "Region: Spain<br>Disposable Income: 17201.0<br>Life Expectancy: 83.0<br>Cluster: 3",
          "Region: Estonia<br>Disposable Income: 8459.0<br>Life Expectancy: 77.3<br>Cluster: 2",
          "Region: Western Finland<br>Disposable Income: 17657.0<br>Life Expectancy: 81.4<br>Cluster: 1",
          "Region: Helsinki-Uusimaa<br>Disposable Income: 20971.0<br>Life Expectancy: 81.7<br>Cluster: 3",
          "Region: Southern Finland<br>Disposable Income: 18041.0<br>Life Expectancy: 80.8<br>Cluster: 1",
          "Region: Eastern and Northern Finland<br>Disposable Income: 16895.0<br>Life Expectancy: 80.4<br>Cluster: 1",
          "Region: Åland<br>Disposable Income: 21224.0<br>Life Expectancy: 82.5<br>Cluster: 3",
          "Region: Finland<br>Disposable Income: 18529.0<br>Life Expectancy: 81.1<br>Cluster: 1",
          "Region: Ile de France<br>Disposable Income: 26032.0<br>Life Expectancy: 83.8<br>Cluster: 3",
          "Region: Champagne-Ardenne<br>Disposable Income: 20229.0<br>Life Expectancy: 81.2<br>Cluster: 1",
          "Region: Picardy<br>Disposable Income: 20370.0<br>Life Expectancy: 80.6<br>Cluster: 1",
          "Region: Upper Normandy<br>Disposable Income: 20830.0<br>Life Expectancy: 81.2<br>Cluster: 1",
          "Region: Centre (FR)<br>Disposable Income: 21513.0<br>Life Expectancy: 82.3<br>Cluster: 3",
          "Region: Lower Normandy <br>Disposable Income: 20751.0<br>Life Expectancy: 82.0<br>Cluster: 3",
          "Region: Burgundy<br>Disposable Income: 21307.0<br>Life Expectancy: 81.9<br>Cluster: 3",
          "Region: Nord-Pas-de-Calais<br>Disposable Income: 18579.0<br>Life Expectancy: 79.8<br>Cluster: 1",
          "Region: Lorraine<br>Disposable Income: 19791.0<br>Life Expectancy: 81.4<br>Cluster: 1",
          "Region: Alsace <br>Disposable Income: 21003.0<br>Life Expectancy: 82.2<br>Cluster: 3",
          "Region: Franche-Comté<br>Disposable Income: 20566.0<br>Life Expectancy: 82.4<br>Cluster: 3",
          "Region: Pays de la Loire<br>Disposable Income: 20618.0<br>Life Expectancy: 82.9<br>Cluster: 3",
          "Region: Brittany<br>Disposable Income: 20740.0<br>Life Expectancy: 81.6<br>Cluster: 3",
          "Region: Poitou-Charentes<br>Disposable Income: 20650.0<br>Life Expectancy: 82.0<br>Cluster: 3",
          "Region: Aquitaine<br>Disposable Income: 21037.0<br>Life Expectancy: 82.9<br>Cluster: 3",
          "Region: Midi-Pyrénées<br>Disposable Income: 20859.0<br>Life Expectancy: 83.4<br>Cluster: 3",
          "Region: Limousin<br>Disposable Income: 21008.0<br>Life Expectancy: 82.0<br>Cluster: 3",
          "Region: Rhône-Alpes<br>Disposable Income: 21760.0<br>Life Expectancy: 83.5<br>Cluster: 3",
          "Region: Auvergne<br>Disposable Income: 21210.0<br>Life Expectancy: 81.9<br>Cluster: 3",
          "Region: Languedoc-Roussillon <br>Disposable Income: 19420.0<br>Life Expectancy: 82.5<br>Cluster: 3",
          "Region: Provence-Alpes-Côte d'Azur<br>Disposable Income: 21333.0<br>Life Expectancy: 82.9<br>Cluster: 3",
          "Region: Corsica<br>Disposable Income: 19663.0<br>Life Expectancy: 82.5<br>Cluster: 3",
          "Region: France<br>Disposable Income: 21704.0<br>Life Expectancy: 82.3<br>Cluster: 3",
          "Region: United Kingdom<br>Disposable Income: 20950.0<br>Life Expectancy: 81.1<br>Cluster: 1",
          "Region: Greece<br>Disposable Income: 10755.0<br>Life Expectancy: 81.4<br>Cluster: 1",
          "Region: Central Hungary<br>Disposable Income: 11500.0<br>Life Expectancy: 77.0<br>Cluster: 2",
          "Region: Central Transdanubia<br>Disposable Income: 10158.0<br>Life Expectancy: 75.5<br>Cluster: 2",
          "Region: Western Transdanubia<br>Disposable Income: 10126.0<br>Life Expectancy: 76.1<br>Cluster: 2",
          "Region: Southern Transdanubia<br>Disposable Income: 9093.0<br>Life Expectancy: 75.2<br>Cluster: 2",
          "Region: Northern Hungary<br>Disposable Income: 8614.0<br>Life Expectancy: 74.2<br>Cluster: 2",
          "Region: Northern Great Plain<br>Disposable Income: 8443.0<br>Life Expectancy: 75.4<br>Cluster: 2",
          "Region: Southern Great Plain<br>Disposable Income: 8953.0<br>Life Expectancy: 75.6<br>Cluster: 2",
          "Region: Hungary<br>Disposable Income: 9852.0<br>Life Expectancy: 75.7<br>Cluster: 2",
          "Region: Border, Midland and Western<br>Disposable Income: 17961.0<br>Life Expectancy: 81.3<br>Cluster: 1",
          "Region: Southern and Eastern<br>Disposable Income: 20620.0<br>Life Expectancy: 81.0<br>Cluster: 1",
          "Region: Jerusalem District<br>Disposable Income: 6944.0<br>Life Expectancy: 82.8<br>Cluster: 3",
          "Region: Northern District<br>Disposable Income: 6723.0<br>Life Expectancy: 81.2<br>Cluster: 1",
          "Region: Haifa District<br>Disposable Income: 9913.0<br>Life Expectancy: 81.9<br>Cluster: 3",
          "Region: Central District<br>Disposable Income: 11281.0<br>Life Expectancy: 83.0<br>Cluster: 3",
          "Region: Tel Aviv District<br>Disposable Income: 12775.0<br>Life Expectancy: 82.5<br>Cluster: 3",
          "Region: Southern District<br>Disposable Income: 7900.0<br>Life Expectancy: 80.8<br>Cluster: 1",
          "Region: Ireland<br>Disposable Income: 19964.0<br>Life Expectancy: 81.1<br>Cluster: 1",
          "Region: Capital Region<br>Disposable Income: 16635.0<br>Life Expectancy: 82.1<br>Cluster: 3",
          "Region: Other Regions<br>Disposable Income: 16635.0<br>Life Expectancy: 82.1<br>Cluster: 3",
          "Region: Iceland<br>Disposable Income: 16635.0<br>Life Expectancy: 82.1<br>Cluster: 3",
          "Region: Israel<br>Disposable Income: 9437.0<br>Life Expectancy: 82.1<br>Cluster: 3",
          "Region: Italy<br>Disposable Income: 18958.0<br>Life Expectancy: 82.8<br>Cluster: 3",
          "Region: Piedmont<br>Disposable Income: 21498.0<br>Life Expectancy: 82.7<br>Cluster: 3",
          "Region: Aosta Valley<br>Disposable Income: 22874.0<br>Life Expectancy: 83.0<br>Cluster: 3",
          "Region: Liguria<br>Disposable Income: 21134.0<br>Life Expectancy: 82.5<br>Cluster: 3",
          "Region: Lombardy<br>Disposable Income: 22642.0<br>Life Expectancy: 83.5<br>Cluster: 3",
          "Region: Abruzzo<br>Disposable Income: 16529.0<br>Life Expectancy: 82.9<br>Cluster: 3",
          "Region: Molise<br>Disposable Income: 16026.0<br>Life Expectancy: 82.8<br>Cluster: 3",
          "Region: Campania<br>Disposable Income: 13171.0<br>Life Expectancy: 81.1<br>Cluster: 1",
          "Region: Apulia<br>Disposable Income: 14330.0<br>Life Expectancy: 83.1<br>Cluster: 3",
          "Region: Basilicata <br>Disposable Income: 14808.0<br>Life Expectancy: 82.8<br>Cluster: 3",
          "Region: Calabria<br>Disposable Income: 13709.0<br>Life Expectancy: 82.5<br>Cluster: 3",
          "Region: Sicily<br>Disposable Income: 13376.0<br>Life Expectancy: 81.9<br>Cluster: 3",
          "Region: Sardinia<br>Disposable Income: 15672.0<br>Life Expectancy: 82.8<br>Cluster: 3",
          "Region: Province of Bolzano-Bozen<br>Disposable Income: 23986.0<br>Life Expectancy: 83.9<br>Cluster: 3",
          "Region: Province of Trento<br>Disposable Income: 20817.0<br>Life Expectancy: 83.9<br>Cluster: 3",
          "Region: Veneto<br>Disposable Income: 21067.0<br>Life Expectancy: 83.4<br>Cluster: 3",
          "Region: Friuli-Venezia Giulia<br>Disposable Income: 21891.0<br>Life Expectancy: 82.6<br>Cluster: 3",
          "Region: Emilia–Romagna<br>Disposable Income: 22858.0<br>Life Expectancy: 83.4<br>Cluster: 3",
          "Region: Tuscany<br>Disposable Income: 20308.0<br>Life Expectancy: 83.4<br>Cluster: 3",
          "Region: Umbria<br>Disposable Income: 19419.0<br>Life Expectancy: 83.3<br>Cluster: 3",
          "Region: Marche<br>Disposable Income: 19766.0<br>Life Expectancy: 83.6<br>Cluster: 3",
          "Region: Lazio<br>Disposable Income: 20818.0<br>Life Expectancy: 82.8<br>Cluster: 3",
          "Region: Hokkaido<br>Disposable Income: 17848.0<br>Life Expectancy: 82.7<br>Cluster: 3",
          "Region: Tohoku<br>Disposable Income: 17644.0<br>Life Expectancy: 82.4<br>Cluster: 3",
          "Region: Northern-Kanto, Koshin<br>Disposable Income: 19657.0<br>Life Expectancy: 82.9<br>Cluster: 3",
          "Region: Southern-Kanto<br>Disposable Income: 22420.0<br>Life Expectancy: 83.1<br>Cluster: 3",
          "Region: Hokuriku<br>Disposable Income: 19213.0<br>Life Expectancy: 83.3<br>Cluster: 3",
          "Region: Toukai<br>Disposable Income: 20668.0<br>Life Expectancy: 83.0<br>Cluster: 3",
          "Region: Kansai region<br>Disposable Income: 19518.0<br>Life Expectancy: 82.8<br>Cluster: 3",
          "Region: Chugoku<br>Disposable Income: 18761.0<br>Life Expectancy: 83.2<br>Cluster: 3",
          "Region: Shikoku<br>Disposable Income: 17383.0<br>Life Expectancy: 82.9<br>Cluster: 3",
          "Region: Kyushu, Okinawa<br>Disposable Income: 17395.0<br>Life Expectancy: 83.0<br>Cluster: 3",
          "Region: Japan<br>Disposable Income: 19071.0<br>Life Expectancy: 83.0<br>Cluster: 3",
          "Region: Korea<br>Disposable Income: 15779.0<br>Life Expectancy: 81.5<br>Cluster: 1",
          "Region: Capital Region (KR)<br>Disposable Income: 17093.0<br>Life Expectancy: 82.4<br>Cluster: 3",
          "Region: Gyeongnam Region<br>Disposable Income: 16499.0<br>Life Expectancy: 80.9<br>Cluster: 1",
          "Region: Gyeonbuk Region<br>Disposable Income: 15335.0<br>Life Expectancy: 80.9<br>Cluster: 1",
          "Region: Jeolla Region<br>Disposable Income: 14830.0<br>Life Expectancy: 81.2<br>Cluster: 1",
          "Region: Chungcheong Region<br>Disposable Income: 15509.0<br>Life Expectancy: 81.7<br>Cluster: 1",
          "Region: Gangwon Region<br>Disposable Income: 14159.0<br>Life Expectancy: 80.4<br>Cluster: 1",
          "Region: Jeju<br>Disposable Income: 15848.0<br>Life Expectancy: 82.9<br>Cluster: 3",
          "Region: Luxembourg<br>Disposable Income: 28908.0<br>Life Expectancy: 81.9<br>Cluster: 3",
          "Region: Luxembourg<br>Disposable Income: 28908.0<br>Life Expectancy: 81.9<br>Cluster: 3",
          "Region: Aguascalientes<br>Disposable Income: 3865.0<br>Life Expectancy: 75.7<br>Cluster: 2",
          "Region: Baja California Norte<br>Disposable Income: 4623.0<br>Life Expectancy: 73.8<br>Cluster: 2",
          "Region: Baja California Sur<br>Disposable Income: 4456.0<br>Life Expectancy: 75.9<br>Cluster: 2",
          "Region: Campeche<br>Disposable Income: 3764.0<br>Life Expectancy: 75.1<br>Cluster: 2",
          "Region: Coahuila<br>Disposable Income: 4205.0<br>Life Expectancy: 75.5<br>Cluster: 2",
          "Region: Colima<br>Disposable Income: 4093.0<br>Life Expectancy: 75.8<br>Cluster: 2",
          "Region: Chiapas<br>Disposable Income: 1786.0<br>Life Expectancy: 72.6<br>Cluster: 2",
          "Region: Chihuahua<br>Disposable Income: 3532.0<br>Life Expectancy: 72.3<br>Cluster: 2",
          "Region: Federal District (MX)<br>Disposable Income: 5845.0<br>Life Expectancy: 76.0<br>Cluster: 2",
          "Region: Durango<br>Disposable Income: 2896.0<br>Life Expectancy: 75.3<br>Cluster: 2",
          "Region: Guanajuato<br>Disposable Income: 2881.0<br>Life Expectancy: 75.3<br>Cluster: 2",
          "Region: Guerrero<br>Disposable Income: 2294.0<br>Life Expectancy: 72.7<br>Cluster: 2",
          "Region: Hidalgo<br>Disposable Income: 2918.0<br>Life Expectancy: 74.3<br>Cluster: 2",
          "Region: Jalisco<br>Disposable Income: 4002.0<br>Life Expectancy: 75.4<br>Cluster: 2",
          "Region: Mexico<br>Disposable Income: 3186.0<br>Life Expectancy: 75.1<br>Cluster: 2",
          "Region: Michoacan<br>Disposable Income: 2538.0<br>Life Expectancy: 74.5<br>Cluster: 2",
          "Region: Morelos<br>Disposable Income: 3015.0<br>Life Expectancy: 75.5<br>Cluster: 2",
          "Region: Nayarit<br>Disposable Income: 3503.0<br>Life Expectancy: 74.8<br>Cluster: 2",
          "Region: Nuevo Leon<br>Disposable Income: 5066.0<br>Life Expectancy: 76.0<br>Cluster: 2",
          "Region: Oaxaca<br>Disposable Income: 2070.0<br>Life Expectancy: 72.8<br>Cluster: 2",
          "Region: Puebla<br>Disposable Income: 2319.0<br>Life Expectancy: 74.7<br>Cluster: 2",
          "Region: Queretaro<br>Disposable Income: 4009.0<br>Life Expectancy: 75.2<br>Cluster: 2",
          "Region: Quintana Roo<br>Disposable Income: 4114.0<br>Life Expectancy: 75.5<br>Cluster: 2",
          "Region: San Luis Potosi<br>Disposable Income: 2847.0<br>Life Expectancy: 74.5<br>Cluster: 2",
          "Region: Sinaloa<br>Disposable Income: 3860.0<br>Life Expectancy: 75.1<br>Cluster: 2",
          "Region: Sonora<br>Disposable Income: 4680.0<br>Life Expectancy: 75.1<br>Cluster: 2",
          "Region: Tabasco<br>Disposable Income: 3023.0<br>Life Expectancy: 74.6<br>Cluster: 2",
          "Region: Tamaulipas<br>Disposable Income: 3809.0<br>Life Expectancy: 75.5<br>Cluster: 2",
          "Region: Tlaxcala<br>Disposable Income: 2381.0<br>Life Expectancy: 75.0<br>Cluster: 2",
          "Region: Veracruz<br>Disposable Income: 2614.0<br>Life Expectancy: 73.9<br>Cluster: 2",
          "Region: Yucatan<br>Disposable Income: 3519.0<br>Life Expectancy: 75.4<br>Cluster: 2",
          "Region: Zacatecas<br>Disposable Income: 2717.0<br>Life Expectancy: 75.0<br>Cluster: 2",
          "Region: Mexico<br>Disposable Income: 3437.0<br>Life Expectancy: 74.8<br>Cluster: 2",
          "Region: Netherlands<br>Disposable Income: 17714.0<br>Life Expectancy: 81.4<br>Cluster: 1",
          "Region: Oslo and Akershus<br>Disposable Income: 24721.0<br>Life Expectancy: 82.3<br>Cluster: 3",
          "Region: Hedmark and Oppland<br>Disposable Income: 21062.0<br>Life Expectancy: 80.9<br>Cluster: 1",
          "Region: South-Eastern Norway<br>Disposable Income: 21621.0<br>Life Expectancy: 81.3<br>Cluster: 1",
          "Region: Agder and Rogaland<br>Disposable Income: 22883.0<br>Life Expectancy: 81.9<br>Cluster: 3",
          "Region: Western Norway<br>Disposable Income: 22474.0<br>Life Expectancy: 82.4<br>Cluster: 3",
          "Region: Trøndelag<br>Disposable Income: 21801.0<br>Life Expectancy: 82.1<br>Cluster: 3",
          "Region: Northern Norway<br>Disposable Income: 21808.0<br>Life Expectancy: 81.1<br>Cluster: 1",
          "Region: Norway<br>Disposable Income: 22832.0<br>Life Expectancy: 81.8<br>Cluster: 3",
          "Region: New Zealand<br>Disposable Income: 16552.0<br>Life Expectancy: 81.4<br>Cluster: 1",
          "Region: Lodzkie<br>Disposable Income: 11952.0<br>Life Expectancy: 75.4<br>Cluster: 2",
          "Region: Mazovia<br>Disposable Income: 14136.0<br>Life Expectancy: 77.7<br>Cluster: 2",
          "Region: Lesser Poland <br>Disposable Income: 11143.0<br>Life Expectancy: 78.5<br>Cluster: 2",
          "Region: Silesia<br>Disposable Income: 13257.0<br>Life Expectancy: 76.3<br>Cluster: 2",
          "Region: Lublin Province <br>Disposable Income: 10271.0<br>Life Expectancy: 77.1<br>Cluster: 2",
          "Region: Podkarpacia<br>Disposable Income: 9339.0<br>Life Expectancy: 78.6<br>Cluster: 2",
          "Region: Swietokrzyskie<br>Disposable Income: 10426.0<br>Life Expectancy: 77.1<br>Cluster: 2",
          "Region: Podlasie<br>Disposable Income: 9914.0<br>Life Expectancy: 77.7<br>Cluster: 2",
          "Region: Greater Poland<br>Disposable Income: 12341.0<br>Life Expectancy: 77.2<br>Cluster: 2",
          "Region: West Pomerania<br>Disposable Income: 11492.0<br>Life Expectancy: 76.7<br>Cluster: 2",
          "Region: Lubusz<br>Disposable Income: 10801.0<br>Life Expectancy: 76.3<br>Cluster: 2",
          "Region: Lower Silesia <br>Disposable Income: 12079.0<br>Life Expectancy: 76.9<br>Cluster: 2",
          "Region: Opole region<br>Disposable Income: 10571.0<br>Life Expectancy: 77.2<br>Cluster: 2",
          "Region: Kuyavian-Pomerania<br>Disposable Income: 10574.0<br>Life Expectancy: 76.9<br>Cluster: 2",
          "Region: Warmian-Masuria<br>Disposable Income: 10245.0<br>Life Expectancy: 76.3<br>Cluster: 2",
          "Region: Pomerania<br>Disposable Income: 11601.0<br>Life Expectancy: 77.9<br>Cluster: 2",
          "Region: Poland<br>Disposable Income: 11782.0<br>Life Expectancy: 77.1<br>Cluster: 2",
          "Region: Portugal<br>Disposable Income: 15973.0<br>Life Expectancy: 80.8<br>Cluster: 1",
          "Region: North (PT)<br>Disposable Income: 13584.0<br>Life Expectancy: 81.3<br>Cluster: 1",
          "Region: Algarve<br>Disposable Income: 16290.0<br>Life Expectancy: 80.6<br>Cluster: 1",
          "Region: Central Portugal<br>Disposable Income: 14632.0<br>Life Expectancy: 81.0<br>Cluster: 1",
          "Region: Lisbon<br>Disposable Income: 20353.0<br>Life Expectancy: 81.3<br>Cluster: 1",
          "Region: Alentejo<br>Disposable Income: 15075.0<br>Life Expectancy: 80.2<br>Cluster: 1",
          "Region: Azores (PT)<br>Disposable Income: 16515.0<br>Life Expectancy: 76.7<br>Cluster: 2",
          "Region: Madeira (PT)<br>Disposable Income: 15823.0<br>Life Expectancy: 78.4<br>Cluster: 1",
          "Region: Stockholm<br>Disposable Income: 23456.0<br>Life Expectancy: 82.8<br>Cluster: 3",
          "Region: East Middle Sweden<br>Disposable Income: 19007.0<br>Life Expectancy: 81.8<br>Cluster: 3",
          "Region: Småland with Islands<br>Disposable Income: 18583.0<br>Life Expectancy: 82.2<br>Cluster: 3",
          "Region: South Sweden<br>Disposable Income: 18765.0<br>Life Expectancy: 82.0<br>Cluster: 3",
          "Region: West Sweden<br>Disposable Income: 19721.0<br>Life Expectancy: 82.1<br>Cluster: 3",
          "Region: North Middle Sweden<br>Disposable Income: 18027.0<br>Life Expectancy: 81.6<br>Cluster: 1",
          "Region: Central Norrland<br>Disposable Income: 18255.0<br>Life Expectancy: 80.9<br>Cluster: 1",
          "Region: Upper Norrland<br>Disposable Income: 18527.0<br>Life Expectancy: 81.1<br>Cluster: 1",
          "Region: Eastern Slovenia<br>Disposable Income: 13507.0<br>Life Expectancy: 79.5<br>Cluster: 1",
          "Region: Western Slovenia<br>Disposable Income: 14673.0<br>Life Expectancy: 81.7<br>Cluster: 1",
          "Region: Bratislava Region<br>Disposable Income: 22045.0<br>Life Expectancy: 78.1<br>Cluster: 1",
          "Region: West Slovakia<br>Disposable Income: 11848.0<br>Life Expectancy: 76.8<br>Cluster: 2",
          "Region: Central Slovakia<br>Disposable Income: 11621.0<br>Life Expectancy: 76.2<br>Cluster: 2",
          "Region: East Slovakia<br>Disposable Income: 9660.0<br>Life Expectancy: 76.2<br>Cluster: 2",
          "Region: Slovak Republic<br>Disposable Income: 14127.0<br>Life Expectancy: 76.5<br>Cluster: 2",
          "Region: Slovenia<br>Disposable Income: 14142.0<br>Life Expectancy: 80.4<br>Cluster: 1",
          "Region: Sweden<br>Disposable Income: 19923.0<br>Life Expectancy: 82.0<br>Cluster: 3",
          "Region: Istanbul<br>Disposable Income: 7480.0<br>Life Expectancy: 77.2<br>Cluster: 2",
          "Region: Thrace<br>Disposable Income: 6414.0<br>Life Expectancy: 76.4<br>Cluster: 2",
          "Region: Southern Marmara - West<br>Disposable Income: 5758.0<br>Life Expectancy: 76.9<br>Cluster: 2",
          "Region: Izmir<br>Disposable Income: 6836.0<br>Life Expectancy: 76.3<br>Cluster: 2",
          "Region: Southern Aegean<br>Disposable Income: 5802.0<br>Life Expectancy: 76.9<br>Cluster: 2",
          "Region: Northern Aegean<br>Disposable Income: 5669.0<br>Life Expectancy: 76.6<br>Cluster: 2",
          "Region: Eastern Marmara - South <br>Disposable Income: 6773.0<br>Life Expectancy: 77.5<br>Cluster: 2",
          "Region: Eastern Marmara - North<br>Disposable Income: 6172.0<br>Life Expectancy: 77.2<br>Cluster: 2",
          "Region: Ankara<br>Disposable Income: 8447.0<br>Life Expectancy: 77.0<br>Cluster: 2",
          "Region: Central Anatolia - West and South<br>Disposable Income: 5494.0<br>Life Expectancy: 77.9<br>Cluster: 2",
          "Region: Mediterranean region - West<br>Disposable Income: 6423.0<br>Life Expectancy: 76.0<br>Cluster: 2",
          "Region: Mediterranean region - Middle<br>Disposable Income: 4899.0<br>Life Expectancy: 75.7<br>Cluster: 2",
          "Region: Mediterranean region - East <br>Disposable Income: 3575.0<br>Life Expectancy: 75.2<br>Cluster: 2",
          "Region: Central Anatolia - Middle<br>Disposable Income: 4993.0<br>Life Expectancy: 76.5<br>Cluster: 2",
          "Region: Central Anatolia - East<br>Disposable Income: 5613.0<br>Life Expectancy: 76.4<br>Cluster: 2",
          "Region: Western Black Sea - West<br>Disposable Income: 6139.0<br>Life Expectancy: 76.3<br>Cluster: 2",
          "Region: Western Black Sea - Middle and East<br>Disposable Income: 5469.0<br>Life Expectancy: 76.7<br>Cluster: 2",
          "Region: Middle Black Sea<br>Disposable Income: 5067.0<br>Life Expectancy: 76.5<br>Cluster: 2",
          "Region: Eastern Black Sea<br>Disposable Income: 5757.0<br>Life Expectancy: 76.5<br>Cluster: 2",
          "Region: Northeastern Anatolia - West<br>Disposable Income: 4836.0<br>Life Expectancy: 77.1<br>Cluster: 2",
          "Region: Northeastern Anatolia - East<br>Disposable Income: 3171.0<br>Life Expectancy: 77.8<br>Cluster: 2",
          "Region: Eastern Anatolia - West<br>Disposable Income: 4304.0<br>Life Expectancy: 78.7<br>Cluster: 2",
          "Region: Eastern Anatolia - East<br>Disposable Income: 2865.0<br>Life Expectancy: 77.2<br>Cluster: 2",
          "Region: Southeastern Anatolia - West <br>Disposable Income: 3478.0<br>Life Expectancy: 75.9<br>Cluster: 2",
          "Region: Southeastern Anatolia - Middle<br>Disposable Income: 2686.0<br>Life Expectancy: 78.5<br>Cluster: 2",
          "Region: Southeastern Anatolia - East<br>Disposable Income: 2552.0<br>Life Expectancy: 77.9<br>Cluster: 2",
          "Region: Türkiye<br>Disposable Income: 5779.0<br>Life Expectancy: 77.0<br>Cluster: 2",
          "Region: North East England<br>Disposable Income: 18459.0<br>Life Expectancy: 80.0<br>Cluster: 1",
          "Region: North West England<br>Disposable Income: 19050.0<br>Life Expectancy: 80.0<br>Cluster: 1",
          "Region: Yorkshire and The Humber<br>Disposable Income: 18848.0<br>Life Expectancy: 80.5<br>Cluster: 1",
          "Region: East Midlands<br>Disposable Income: 19656.0<br>Life Expectancy: 81.2<br>Cluster: 1",
          "Region: West Midlands<br>Disposable Income: 19231.0<br>Life Expectancy: 80.8<br>Cluster: 1",
          "Region: East of England<br>Disposable Income: 22901.0<br>Life Expectancy: 82.2<br>Cluster: 3",
          "Region: Greater London<br>Disposable Income: 27831.0<br>Life Expectancy: 82.3<br>Cluster: 3",
          "Region: South East England<br>Disposable Income: 24606.0<br>Life Expectancy: 82.2<br>Cluster: 3",
          "Region: South West England<br>Disposable Income: 21881.0<br>Life Expectancy: 81.9<br>Cluster: 3",
          "Region: Wales<br>Disposable Income: 19035.0<br>Life Expectancy: 80.3<br>Cluster: 1",
          "Region: Scotland<br>Disposable Income: 21060.0<br>Life Expectancy: 79.3<br>Cluster: 1",
          "Region: Northern Ireland<br>Disposable Income: 17722.0<br>Life Expectancy: 80.4<br>Cluster: 1",
          "Region: Alabama<br>Disposable Income: 31369.0<br>Life Expectancy: 75.4<br>Cluster: 0",
          "Region: Alaska<br>Disposable Income: 43028.0<br>Life Expectancy: 78.3<br>Cluster: 0",
          "Region: Arizona<br>Disposable Income: 31567.0<br>Life Expectancy: 79.6<br>Cluster: 0",
          "Region: Arkansas<br>Disposable Income: 31430.0<br>Life Expectancy: 76.0<br>Cluster: 0",
          "Region: California<br>Disposable Income: 39517.0<br>Life Expectancy: 80.8<br>Cluster: 0",
          "Region: Colorado<br>Disposable Income: 38902.0<br>Life Expectancy: 80.0<br>Cluster: 0",
          "Region: Connecticut<br>Disposable Income: 47976.0<br>Life Expectancy: 80.8<br>Cluster: 0",
          "Region: Delaware<br>Disposable Income: 37669.0<br>Life Expectancy: 78.4<br>Cluster: 0",
          "Region: District of Columbia<br>Disposable Income: 61738.0<br>Life Expectancy: 76.5<br>Cluster: 0",
          "Region: Florida<br>Disposable Income: 35243.0<br>Life Expectancy: 79.4<br>Cluster: 0",
          "Region: Georgia<br>Disposable Income: 32009.0<br>Life Expectancy: 77.2<br>Cluster: 0",
          "Region: Hawaii<br>Disposable Income: 38409.0<br>Life Expectancy: 81.3<br>Cluster: 0",
          "Region: Idaho<br>Disposable Income: 30975.0<br>Life Expectancy: 79.5<br>Cluster: 0",
          "Region: Illinois<br>Disposable Income: 38765.0<br>Life Expectancy: 79.0<br>Cluster: 0",
          "Region: Indiana<br>Disposable Income: 32718.0<br>Life Expectancy: 77.6<br>Cluster: 0",
          "Region: Iowa<br>Disposable Income: 37902.0<br>Life Expectancy: 79.7<br>Cluster: 0",
          "Region: Kansas<br>Disposable Income: 37508.0<br>Life Expectancy: 78.7<br>Cluster: 0",
          "Region: Kentucky<br>Disposable Income: 30801.0<br>Life Expectancy: 76.0<br>Cluster: 0",
          "Region: Louisiana<br>Disposable Income: 35275.0<br>Life Expectancy: 75.7<br>Cluster: 0",
          "Region: Maine<br>Disposable Income: 34805.0<br>Life Expectancy: 79.2<br>Cluster: 0",
          "Region: Maryland<br>Disposable Income: 44290.0<br>Life Expectancy: 78.8<br>Cluster: 0",
          "Region: Massachusetts<br>Disposable Income: 46078.0<br>Life Expectancy: 80.5<br>Cluster: 0",
          "Region: Michigan<br>Disposable Income: 32770.0<br>Life Expectancy: 78.2<br>Cluster: 0",
          "Region: Minnesota<br>Disposable Income: 38991.0<br>Life Expectancy: 81.1<br>Cluster: 0",
          "Region: Mississippi<br>Disposable Income: 29482.0<br>Life Expectancy: 75.0<br>Cluster: 0",
          "Region: Missouri<br>Disposable Income: 34492.0<br>Life Expectancy: 77.5<br>Cluster: 0",
          "Region: Montana (US)<br>Disposable Income: 33175.0<br>Life Expectancy: 78.5<br>Cluster: 0",
          "Region: Nebraska<br>Disposable Income: 39967.0<br>Life Expectancy: 79.8<br>Cluster: 0",
          "Region: Nevada<br>Disposable Income: 33374.0<br>Life Expectancy: 78.1<br>Cluster: 0",
          "Region: New Hampshire<br>Disposable Income: 43626.0<br>Life Expectancy: 80.3<br>Cluster: 0",
          "Region: New Jersey<br>Disposable Income: 45373.0<br>Life Expectancy: 80.3<br>Cluster: 0",
          "Region: New Mexico<br>Disposable Income: 31031.0<br>Life Expectancy: 78.4<br>Cluster: 0",
          "Region: New York<br>Disposable Income: 43527.0<br>Life Expectancy: 80.5<br>Cluster: 0",
          "Region: North Carolina<br>Disposable Income: 32729.0<br>Life Expectancy: 77.8<br>Cluster: 0",
          "Region: North Dakota<br>Disposable Income: 43906.0<br>Life Expectancy: 79.5<br>Cluster: 0",
          "Region: Ohio<br>Disposable Income: 34483.0<br>Life Expectancy: 77.8<br>Cluster: 0",
          "Region: Oklahoma<br>Disposable Income: 35688.0<br>Life Expectancy: 75.9<br>Cluster: 0",
          "Region: Oregon<br>Disposable Income: 33153.0<br>Life Expectancy: 79.5<br>Cluster: 0",
          "Region: Pennsylvania<br>Disposable Income: 38699.0<br>Life Expectancy: 78.5<br>Cluster: 0",
          "Region: Rhode Island<br>Disposable Income: 39553.0<br>Life Expectancy: 79.9<br>Cluster: 0",
          "Region: South Carolina<br>Disposable Income: 30733.0<br>Life Expectancy: 77.0<br>Cluster: 0",
          "Region: South Dakota<br>Disposable Income: 39778.0<br>Life Expectancy: 79.5<br>Cluster: 0",
          "Region: Tennessee<br>Disposable Income: 34500.0<br>Life Expectancy: 76.3<br>Cluster: 0",
          "Region: Texas<br>Disposable Income: 37326.0<br>Life Expectancy: 78.5<br>Cluster: 0",
          "Region: Utah<br>Disposable Income: 30950.0<br>Life Expectancy: 80.2<br>Cluster: 0",
          "Region: Vermont<br>Disposable Income: 38685.0<br>Life Expectancy: 80.5<br>Cluster: 0",
          "Region: Virginia<br>Disposable Income: 40462.0<br>Life Expectancy: 79.0<br>Cluster: 0",
          "Region: Washington<br>Disposable Income: 40619.0<br>Life Expectancy: 79.9<br>Cluster: 0",
          "Region: West Virginia<br>Disposable Income: 30461.0<br>Life Expectancy: 75.4<br>Cluster: 0",
          "Region: Wisconsin<br>Disposable Income: 36273.0<br>Life Expectancy: 80.0<br>Cluster: 0",
          "Region: Wyoming<br>Disposable Income: 43516.0<br>Life Expectancy: 78.3<br>Cluster: 0",
          "Region: United States<br>Disposable Income: 37263.0<br>Life Expectancy: 78.6<br>Cluster: 0"
         ],
         "legendgroup": "",
         "marker": {
          "color": [
           1,
           1,
           1,
           3,
           3,
           1,
           3,
           3,
           3,
           3,
           3,
           3,
           3,
           3,
           1,
           0,
           0,
           3,
           1,
           1,
           3,
           1,
           1,
           1,
           1,
           1,
           1,
           1,
           3,
           1,
           1,
           3,
           3,
           0,
           0,
           2,
           3,
           3,
           3,
           3,
           3,
           3,
           3,
           3,
           3,
           2,
           2,
           1,
           2,
           2,
           2,
           2,
           2,
           2,
           2,
           2,
           2,
           2,
           2,
           2,
           2,
           1,
           2,
           2,
           2,
           2,
           1,
           2,
           2,
           2,
           3,
           1,
           1,
           1,
           1,
           1,
           1,
           1,
           1,
           1,
           1,
           1,
           1,
           1,
           1,
           1,
           1,
           1,
           1,
           1,
           1,
           1,
           1,
           2,
           2,
           2,
           2,
           2,
           3,
           3,
           3,
           3,
           3,
           3,
           3,
           3,
           3,
           3,
           3,
           3,
           3,
           3,
           3,
           3,
           1,
           1,
           3,
           3,
           2,
           1,
           3,
           1,
           1,
           3,
           1,
           3,
           1,
           1,
           1,
           3,
           3,
           3,
           1,
           1,
           3,
           3,
           3,
           3,
           3,
           3,
           3,
           3,
           3,
           3,
           3,
           3,
           3,
           3,
           1,
           1,
           2,
           2,
           2,
           2,
           2,
           2,
           2,
           2,
           1,
           1,
           3,
           1,
           3,
           3,
           3,
           1,
           1,
           3,
           3,
           3,
           3,
           3,
           3,
           3,
           3,
           3,
           3,
           3,
           1,
           3,
           3,
           3,
           3,
           3,
           3,
           3,
           3,
           3,
           3,
           3,
           3,
           3,
           3,
           3,
           3,
           3,
           3,
           3,
           3,
           3,
           3,
           3,
           3,
           3,
           1,
           3,
           1,
           1,
           1,
           1,
           1,
           3,
           3,
           3,
           2,
           2,
           2,
           2,
           2,
           2,
           2,
           2,
           2,
           2,
           2,
           2,
           2,
           2,
           2,
           2,
           2,
           2,
           2,
           2,
           2,
           2,
           2,
           2,
           2,
           2,
           2,
           2,
           2,
           2,
           2,
           2,
           2,
           1,
           3,
           1,
           1,
           3,
           3,
           3,
           1,
           3,
           1,
           2,
           2,
           2,
           2,
           2,
           2,
           2,
           2,
           2,
           2,
           2,
           2,
           2,
           2,
           2,
           2,
           2,
           1,
           1,
           1,
           1,
           1,
           1,
           2,
           1,
           3,
           3,
           3,
           3,
           3,
           1,
           1,
           1,
           1,
           1,
           1,
           2,
           2,
           2,
           2,
           1,
           3,
           2,
           2,
           2,
           2,
           2,
           2,
           2,
           2,
           2,
           2,
           2,
           2,
           2,
           2,
           2,
           2,
           2,
           2,
           2,
           2,
           2,
           2,
           2,
           2,
           2,
           2,
           2,
           1,
           1,
           1,
           1,
           1,
           3,
           3,
           3,
           3,
           1,
           1,
           1,
           0,
           0,
           0,
           0,
           0,
           0,
           0,
           0,
           0,
           0,
           0,
           0,
           0,
           0,
           0,
           0,
           0,
           0,
           0,
           0,
           0,
           0,
           0,
           0,
           0,
           0,
           0,
           0,
           0,
           0,
           0,
           0,
           0,
           0,
           0,
           0,
           0,
           0,
           0,
           0,
           0,
           0,
           0,
           0,
           0,
           0,
           0,
           0,
           0,
           0,
           0,
           0
          ],
          "coloraxis": "coloraxis",
          "size": 12,
          "symbol": "circle"
         },
         "mode": "markers",
         "name": "",
         "orientation": "v",
         "showlegend": false,
         "type": "scatter",
         "x": [
          23661,
          24653,
          23243,
          22843,
          23265,
          23955,
          24225,
          23212,
          24616,
          27742,
          24513,
          26102,
          25435,
          31803,
          22907,
          32966,
          50393,
          27204,
          23743,
          18468,
          21148,
          18261,
          19944,
          23243,
          19460,
          20317,
          20190,
          19706,
          22376,
          20535,
          24326,
          29664,
          23293,
          30199,
          30203,
          23181,
          22630,
          20880,
          19908,
          22632,
          26028,
          20484,
          22428,
          19572,
          21849,
          6925,
          6154,
          8243,
          6531,
          5173,
          6021,
          5542,
          5017,
          5393,
          5160,
          5562,
          7958,
          8619,
          8670,
          5330,
          5722,
          15968,
          13062,
          11871,
          10657,
          11487,
          12033,
          11057,
          10876,
          12353,
          25288,
          26203,
          20244,
          20746,
          23228,
          25315,
          24308,
          19604,
          22726,
          23489,
          24869,
          22352,
          20476,
          19990,
          24048,
          20131,
          23601,
          18143,
          17493,
          17089,
          17215,
          17364,
          17517,
          10523,
          7692,
          9035,
          5709,
          8247,
          16317,
          18066,
          17242,
          22884,
          21896,
          18340,
          19007,
          20925,
          17365,
          14224,
          13145,
          19447,
          15478,
          17243,
          13789,
          14263,
          15132,
          13776,
          14654,
          17201,
          8459,
          17657,
          20971,
          18041,
          16895,
          21224,
          18529,
          26032,
          20229,
          20370,
          20830,
          21513,
          20751,
          21307,
          18579,
          19791,
          21003,
          20566,
          20618,
          20740,
          20650,
          21037,
          20859,
          21008,
          21760,
          21210,
          19420,
          21333,
          19663,
          21704,
          20950,
          10755,
          11500,
          10158,
          10126,
          9093,
          8614,
          8443,
          8953,
          9852,
          17961,
          20620,
          6944,
          6723,
          9913,
          11281,
          12775,
          7900,
          19964,
          16635,
          16635,
          16635,
          9437,
          18958,
          21498,
          22874,
          21134,
          22642,
          16529,
          16026,
          13171,
          14330,
          14808,
          13709,
          13376,
          15672,
          23986,
          20817,
          21067,
          21891,
          22858,
          20308,
          19419,
          19766,
          20818,
          17848,
          17644,
          19657,
          22420,
          19213,
          20668,
          19518,
          18761,
          17383,
          17395,
          19071,
          15779,
          17093,
          16499,
          15335,
          14830,
          15509,
          14159,
          15848,
          28908,
          28908,
          3865,
          4623,
          4456,
          3764,
          4205,
          4093,
          1786,
          3532,
          5845,
          2896,
          2881,
          2294,
          2918,
          4002,
          3186,
          2538,
          3015,
          3503,
          5066,
          2070,
          2319,
          4009,
          4114,
          2847,
          3860,
          4680,
          3023,
          3809,
          2381,
          2614,
          3519,
          2717,
          3437,
          17714,
          24721,
          21062,
          21621,
          22883,
          22474,
          21801,
          21808,
          22832,
          16552,
          11952,
          14136,
          11143,
          13257,
          10271,
          9339,
          10426,
          9914,
          12341,
          11492,
          10801,
          12079,
          10571,
          10574,
          10245,
          11601,
          11782,
          15973,
          13584,
          16290,
          14632,
          20353,
          15075,
          16515,
          15823,
          23456,
          19007,
          18583,
          18765,
          19721,
          18027,
          18255,
          18527,
          13507,
          14673,
          22045,
          11848,
          11621,
          9660,
          14127,
          14142,
          19923,
          7480,
          6414,
          5758,
          6836,
          5802,
          5669,
          6773,
          6172,
          8447,
          5494,
          6423,
          4899,
          3575,
          4993,
          5613,
          6139,
          5469,
          5067,
          5757,
          4836,
          3171,
          4304,
          2865,
          3478,
          2686,
          2552,
          5779,
          18459,
          19050,
          18848,
          19656,
          19231,
          22901,
          27831,
          24606,
          21881,
          19035,
          21060,
          17722,
          31369,
          43028,
          31567,
          31430,
          39517,
          38902,
          47976,
          37669,
          61738,
          35243,
          32009,
          38409,
          30975,
          38765,
          32718,
          37902,
          37508,
          30801,
          35275,
          34805,
          44290,
          46078,
          32770,
          38991,
          29482,
          34492,
          33175,
          39967,
          33374,
          43626,
          45373,
          31031,
          43527,
          32729,
          43906,
          34483,
          35688,
          33153,
          38699,
          39553,
          30733,
          39778,
          34500,
          37326,
          30950,
          38685,
          40462,
          40619,
          30461,
          36273,
          43516,
          37263
         ],
         "xaxis": "x",
         "y": [
          80.9,
          80.8,
          80,
          81.5,
          81.5,
          81.2,
          82,
          82.2,
          82,
          82.2,
          82.7,
          81.9,
          82.2,
          82.6,
          80.7,
          77.1,
          83.4,
          82.2,
          81.2,
          80.6,
          81.6,
          79.1,
          80.7,
          79.5,
          80.5,
          80.3,
          80.8,
          81.5,
          81.8,
          80,
          79.7,
          81.3,
          82.3,
          77.4,
          78.2,
          71.3,
          81.5,
          83.2,
          82.5,
          82.9,
          83,
          82.7,
          83.2,
          83.8,
          82.9,
          78.7,
          77,
          79,
          78.9,
          78.5,
          77.9,
          77.8,
          78.2,
          77.4,
          76.7,
          78.9,
          77.3,
          77.4,
          77.4,
          77.7,
          79.2,
          79.8,
          78.1,
          78.2,
          76.3,
          78.4,
          78.7,
          78,
          77,
          78.3,
          81.9,
          81.3,
          80.5,
          80,
          79.5,
          80.6,
          81,
          79.6,
          80.2,
          80.2,
          80.7,
          79.6,
          80.5,
          79.3,
          80.3,
          80.2,
          80.9,
          80.5,
          79.9,
          80.7,
          81.2,
          80.5,
          80.4,
          77.5,
          76.3,
          75.7,
          72.3,
          76.5,
          82.9,
          82.5,
          83.4,
          83.7,
          84,
          84,
          83.4,
          84.8,
          84,
          83.5,
          82.2,
          83.4,
          82.8,
          82.9,
          81.8,
          82.7,
          79.7,
          81,
          82.7,
          83,
          77.3,
          81.4,
          81.7,
          80.8,
          80.4,
          82.5,
          81.1,
          83.8,
          81.2,
          80.6,
          81.2,
          82.3,
          82,
          81.9,
          79.8,
          81.4,
          82.2,
          82.4,
          82.9,
          81.6,
          82,
          82.9,
          83.4,
          82,
          83.5,
          81.9,
          82.5,
          82.9,
          82.5,
          82.3,
          81.1,
          81.4,
          77,
          75.5,
          76.1,
          75.2,
          74.2,
          75.4,
          75.6,
          75.7,
          81.3,
          81,
          82.8,
          81.2,
          81.9,
          83,
          82.5,
          80.8,
          81.1,
          82.1,
          82.1,
          82.1,
          82.1,
          82.8,
          82.7,
          83,
          82.5,
          83.5,
          82.9,
          82.8,
          81.1,
          83.1,
          82.8,
          82.5,
          81.9,
          82.8,
          83.9,
          83.9,
          83.4,
          82.6,
          83.4,
          83.4,
          83.3,
          83.6,
          82.8,
          82.7,
          82.4,
          82.9,
          83.1,
          83.3,
          83,
          82.8,
          83.2,
          82.9,
          83,
          83,
          81.5,
          82.4,
          80.9,
          80.9,
          81.2,
          81.7,
          80.4,
          82.9,
          81.9,
          81.9,
          75.7,
          73.8,
          75.9,
          75.1,
          75.5,
          75.8,
          72.6,
          72.3,
          76,
          75.3,
          75.3,
          72.7,
          74.3,
          75.4,
          75.1,
          74.5,
          75.5,
          74.8,
          76,
          72.8,
          74.7,
          75.2,
          75.5,
          74.5,
          75.1,
          75.1,
          74.6,
          75.5,
          75,
          73.9,
          75.4,
          75,
          74.8,
          81.4,
          82.3,
          80.9,
          81.3,
          81.9,
          82.4,
          82.1,
          81.1,
          81.8,
          81.4,
          75.4,
          77.7,
          78.5,
          76.3,
          77.1,
          78.6,
          77.1,
          77.7,
          77.2,
          76.7,
          76.3,
          76.9,
          77.2,
          76.9,
          76.3,
          77.9,
          77.1,
          80.8,
          81.3,
          80.6,
          81,
          81.3,
          80.2,
          76.7,
          78.4,
          82.8,
          81.8,
          82.2,
          82,
          82.1,
          81.6,
          80.9,
          81.1,
          79.5,
          81.7,
          78.1,
          76.8,
          76.2,
          76.2,
          76.5,
          80.4,
          82,
          77.2,
          76.4,
          76.9,
          76.3,
          76.9,
          76.6,
          77.5,
          77.2,
          77,
          77.9,
          76,
          75.7,
          75.2,
          76.5,
          76.4,
          76.3,
          76.7,
          76.5,
          76.5,
          77.1,
          77.8,
          78.7,
          77.2,
          75.9,
          78.5,
          77.9,
          77,
          80,
          80,
          80.5,
          81.2,
          80.8,
          82.2,
          82.3,
          82.2,
          81.9,
          80.3,
          79.3,
          80.4,
          75.4,
          78.3,
          79.6,
          76,
          80.8,
          80,
          80.8,
          78.4,
          76.5,
          79.4,
          77.2,
          81.3,
          79.5,
          79,
          77.6,
          79.7,
          78.7,
          76,
          75.7,
          79.2,
          78.8,
          80.5,
          78.2,
          81.1,
          75,
          77.5,
          78.5,
          79.8,
          78.1,
          80.3,
          80.3,
          78.4,
          80.5,
          77.8,
          79.5,
          77.8,
          75.9,
          79.5,
          78.5,
          79.9,
          77,
          79.5,
          76.3,
          78.5,
          80.2,
          80.5,
          79,
          79.9,
          75.4,
          80,
          78.3,
          78.6
         ],
         "yaxis": "y"
        }
       ],
       "layout": {
        "coloraxis": {
         "colorbar": {
          "title": {
           "text": "Cluster"
          }
         },
         "colorscale": [
          [
           0,
           "#0d0887"
          ],
          [
           0.1111111111111111,
           "#46039f"
          ],
          [
           0.2222222222222222,
           "#7201a8"
          ],
          [
           0.3333333333333333,
           "#9c179e"
          ],
          [
           0.4444444444444444,
           "#bd3786"
          ],
          [
           0.5555555555555556,
           "#d8576b"
          ],
          [
           0.6666666666666666,
           "#ed7953"
          ],
          [
           0.7777777777777778,
           "#fb9f3a"
          ],
          [
           0.8888888888888888,
           "#fdca26"
          ],
          [
           1,
           "#f0f921"
          ]
         ]
        },
        "legend": {
         "title": {
          "text": "Cluster"
         },
         "tracegroupgap": 0
        },
        "margin": {
         "t": 60
        },
        "template": {
         "data": {
          "bar": [
           {
            "error_x": {
             "color": "#2a3f5f"
            },
            "error_y": {
             "color": "#2a3f5f"
            },
            "marker": {
             "line": {
              "color": "#E5ECF6",
              "width": 0.5
             },
             "pattern": {
              "fillmode": "overlay",
              "size": 10,
              "solidity": 0.2
             }
            },
            "type": "bar"
           }
          ],
          "barpolar": [
           {
            "marker": {
             "line": {
              "color": "#E5ECF6",
              "width": 0.5
             },
             "pattern": {
              "fillmode": "overlay",
              "size": 10,
              "solidity": 0.2
             }
            },
            "type": "barpolar"
           }
          ],
          "carpet": [
           {
            "aaxis": {
             "endlinecolor": "#2a3f5f",
             "gridcolor": "white",
             "linecolor": "white",
             "minorgridcolor": "white",
             "startlinecolor": "#2a3f5f"
            },
            "baxis": {
             "endlinecolor": "#2a3f5f",
             "gridcolor": "white",
             "linecolor": "white",
             "minorgridcolor": "white",
             "startlinecolor": "#2a3f5f"
            },
            "type": "carpet"
           }
          ],
          "choropleth": [
           {
            "colorbar": {
             "outlinewidth": 0,
             "ticks": ""
            },
            "type": "choropleth"
           }
          ],
          "contour": [
           {
            "colorbar": {
             "outlinewidth": 0,
             "ticks": ""
            },
            "colorscale": [
             [
              0,
              "#0d0887"
             ],
             [
              0.1111111111111111,
              "#46039f"
             ],
             [
              0.2222222222222222,
              "#7201a8"
             ],
             [
              0.3333333333333333,
              "#9c179e"
             ],
             [
              0.4444444444444444,
              "#bd3786"
             ],
             [
              0.5555555555555556,
              "#d8576b"
             ],
             [
              0.6666666666666666,
              "#ed7953"
             ],
             [
              0.7777777777777778,
              "#fb9f3a"
             ],
             [
              0.8888888888888888,
              "#fdca26"
             ],
             [
              1,
              "#f0f921"
             ]
            ],
            "type": "contour"
           }
          ],
          "contourcarpet": [
           {
            "colorbar": {
             "outlinewidth": 0,
             "ticks": ""
            },
            "type": "contourcarpet"
           }
          ],
          "heatmap": [
           {
            "colorbar": {
             "outlinewidth": 0,
             "ticks": ""
            },
            "colorscale": [
             [
              0,
              "#0d0887"
             ],
             [
              0.1111111111111111,
              "#46039f"
             ],
             [
              0.2222222222222222,
              "#7201a8"
             ],
             [
              0.3333333333333333,
              "#9c179e"
             ],
             [
              0.4444444444444444,
              "#bd3786"
             ],
             [
              0.5555555555555556,
              "#d8576b"
             ],
             [
              0.6666666666666666,
              "#ed7953"
             ],
             [
              0.7777777777777778,
              "#fb9f3a"
             ],
             [
              0.8888888888888888,
              "#fdca26"
             ],
             [
              1,
              "#f0f921"
             ]
            ],
            "type": "heatmap"
           }
          ],
          "heatmapgl": [
           {
            "colorbar": {
             "outlinewidth": 0,
             "ticks": ""
            },
            "colorscale": [
             [
              0,
              "#0d0887"
             ],
             [
              0.1111111111111111,
              "#46039f"
             ],
             [
              0.2222222222222222,
              "#7201a8"
             ],
             [
              0.3333333333333333,
              "#9c179e"
             ],
             [
              0.4444444444444444,
              "#bd3786"
             ],
             [
              0.5555555555555556,
              "#d8576b"
             ],
             [
              0.6666666666666666,
              "#ed7953"
             ],
             [
              0.7777777777777778,
              "#fb9f3a"
             ],
             [
              0.8888888888888888,
              "#fdca26"
             ],
             [
              1,
              "#f0f921"
             ]
            ],
            "type": "heatmapgl"
           }
          ],
          "histogram": [
           {
            "marker": {
             "pattern": {
              "fillmode": "overlay",
              "size": 10,
              "solidity": 0.2
             }
            },
            "type": "histogram"
           }
          ],
          "histogram2d": [
           {
            "colorbar": {
             "outlinewidth": 0,
             "ticks": ""
            },
            "colorscale": [
             [
              0,
              "#0d0887"
             ],
             [
              0.1111111111111111,
              "#46039f"
             ],
             [
              0.2222222222222222,
              "#7201a8"
             ],
             [
              0.3333333333333333,
              "#9c179e"
             ],
             [
              0.4444444444444444,
              "#bd3786"
             ],
             [
              0.5555555555555556,
              "#d8576b"
             ],
             [
              0.6666666666666666,
              "#ed7953"
             ],
             [
              0.7777777777777778,
              "#fb9f3a"
             ],
             [
              0.8888888888888888,
              "#fdca26"
             ],
             [
              1,
              "#f0f921"
             ]
            ],
            "type": "histogram2d"
           }
          ],
          "histogram2dcontour": [
           {
            "colorbar": {
             "outlinewidth": 0,
             "ticks": ""
            },
            "colorscale": [
             [
              0,
              "#0d0887"
             ],
             [
              0.1111111111111111,
              "#46039f"
             ],
             [
              0.2222222222222222,
              "#7201a8"
             ],
             [
              0.3333333333333333,
              "#9c179e"
             ],
             [
              0.4444444444444444,
              "#bd3786"
             ],
             [
              0.5555555555555556,
              "#d8576b"
             ],
             [
              0.6666666666666666,
              "#ed7953"
             ],
             [
              0.7777777777777778,
              "#fb9f3a"
             ],
             [
              0.8888888888888888,
              "#fdca26"
             ],
             [
              1,
              "#f0f921"
             ]
            ],
            "type": "histogram2dcontour"
           }
          ],
          "mesh3d": [
           {
            "colorbar": {
             "outlinewidth": 0,
             "ticks": ""
            },
            "type": "mesh3d"
           }
          ],
          "parcoords": [
           {
            "line": {
             "colorbar": {
              "outlinewidth": 0,
              "ticks": ""
             }
            },
            "type": "parcoords"
           }
          ],
          "pie": [
           {
            "automargin": true,
            "type": "pie"
           }
          ],
          "scatter": [
           {
            "marker": {
             "colorbar": {
              "outlinewidth": 0,
              "ticks": ""
             }
            },
            "type": "scatter"
           }
          ],
          "scatter3d": [
           {
            "line": {
             "colorbar": {
              "outlinewidth": 0,
              "ticks": ""
             }
            },
            "marker": {
             "colorbar": {
              "outlinewidth": 0,
              "ticks": ""
             }
            },
            "type": "scatter3d"
           }
          ],
          "scattercarpet": [
           {
            "marker": {
             "colorbar": {
              "outlinewidth": 0,
              "ticks": ""
             }
            },
            "type": "scattercarpet"
           }
          ],
          "scattergeo": [
           {
            "marker": {
             "colorbar": {
              "outlinewidth": 0,
              "ticks": ""
             }
            },
            "type": "scattergeo"
           }
          ],
          "scattergl": [
           {
            "marker": {
             "colorbar": {
              "outlinewidth": 0,
              "ticks": ""
             }
            },
            "type": "scattergl"
           }
          ],
          "scattermapbox": [
           {
            "marker": {
             "colorbar": {
              "outlinewidth": 0,
              "ticks": ""
             }
            },
            "type": "scattermapbox"
           }
          ],
          "scatterpolar": [
           {
            "marker": {
             "colorbar": {
              "outlinewidth": 0,
              "ticks": ""
             }
            },
            "type": "scatterpolar"
           }
          ],
          "scatterpolargl": [
           {
            "marker": {
             "colorbar": {
              "outlinewidth": 0,
              "ticks": ""
             }
            },
            "type": "scatterpolargl"
           }
          ],
          "scatterternary": [
           {
            "marker": {
             "colorbar": {
              "outlinewidth": 0,
              "ticks": ""
             }
            },
            "type": "scatterternary"
           }
          ],
          "surface": [
           {
            "colorbar": {
             "outlinewidth": 0,
             "ticks": ""
            },
            "colorscale": [
             [
              0,
              "#0d0887"
             ],
             [
              0.1111111111111111,
              "#46039f"
             ],
             [
              0.2222222222222222,
              "#7201a8"
             ],
             [
              0.3333333333333333,
              "#9c179e"
             ],
             [
              0.4444444444444444,
              "#bd3786"
             ],
             [
              0.5555555555555556,
              "#d8576b"
             ],
             [
              0.6666666666666666,
              "#ed7953"
             ],
             [
              0.7777777777777778,
              "#fb9f3a"
             ],
             [
              0.8888888888888888,
              "#fdca26"
             ],
             [
              1,
              "#f0f921"
             ]
            ],
            "type": "surface"
           }
          ],
          "table": [
           {
            "cells": {
             "fill": {
              "color": "#EBF0F8"
             },
             "line": {
              "color": "white"
             }
            },
            "header": {
             "fill": {
              "color": "#C8D4E3"
             },
             "line": {
              "color": "white"
             }
            },
            "type": "table"
           }
          ]
         },
         "layout": {
          "annotationdefaults": {
           "arrowcolor": "#2a3f5f",
           "arrowhead": 0,
           "arrowwidth": 1
          },
          "autotypenumbers": "strict",
          "coloraxis": {
           "colorbar": {
            "outlinewidth": 0,
            "ticks": ""
           }
          },
          "colorscale": {
           "diverging": [
            [
             0,
             "#8e0152"
            ],
            [
             0.1,
             "#c51b7d"
            ],
            [
             0.2,
             "#de77ae"
            ],
            [
             0.3,
             "#f1b6da"
            ],
            [
             0.4,
             "#fde0ef"
            ],
            [
             0.5,
             "#f7f7f7"
            ],
            [
             0.6,
             "#e6f5d0"
            ],
            [
             0.7,
             "#b8e186"
            ],
            [
             0.8,
             "#7fbc41"
            ],
            [
             0.9,
             "#4d9221"
            ],
            [
             1,
             "#276419"
            ]
           ],
           "sequential": [
            [
             0,
             "#0d0887"
            ],
            [
             0.1111111111111111,
             "#46039f"
            ],
            [
             0.2222222222222222,
             "#7201a8"
            ],
            [
             0.3333333333333333,
             "#9c179e"
            ],
            [
             0.4444444444444444,
             "#bd3786"
            ],
            [
             0.5555555555555556,
             "#d8576b"
            ],
            [
             0.6666666666666666,
             "#ed7953"
            ],
            [
             0.7777777777777778,
             "#fb9f3a"
            ],
            [
             0.8888888888888888,
             "#fdca26"
            ],
            [
             1,
             "#f0f921"
            ]
           ],
           "sequentialminus": [
            [
             0,
             "#0d0887"
            ],
            [
             0.1111111111111111,
             "#46039f"
            ],
            [
             0.2222222222222222,
             "#7201a8"
            ],
            [
             0.3333333333333333,
             "#9c179e"
            ],
            [
             0.4444444444444444,
             "#bd3786"
            ],
            [
             0.5555555555555556,
             "#d8576b"
            ],
            [
             0.6666666666666666,
             "#ed7953"
            ],
            [
             0.7777777777777778,
             "#fb9f3a"
            ],
            [
             0.8888888888888888,
             "#fdca26"
            ],
            [
             1,
             "#f0f921"
            ]
           ]
          },
          "colorway": [
           "#636efa",
           "#EF553B",
           "#00cc96",
           "#ab63fa",
           "#FFA15A",
           "#19d3f3",
           "#FF6692",
           "#B6E880",
           "#FF97FF",
           "#FECB52"
          ],
          "font": {
           "color": "#2a3f5f"
          },
          "geo": {
           "bgcolor": "white",
           "lakecolor": "white",
           "landcolor": "#E5ECF6",
           "showlakes": true,
           "showland": true,
           "subunitcolor": "white"
          },
          "hoverlabel": {
           "align": "left"
          },
          "hovermode": "closest",
          "mapbox": {
           "style": "light"
          },
          "paper_bgcolor": "white",
          "plot_bgcolor": "#E5ECF6",
          "polar": {
           "angularaxis": {
            "gridcolor": "white",
            "linecolor": "white",
            "ticks": ""
           },
           "bgcolor": "#E5ECF6",
           "radialaxis": {
            "gridcolor": "white",
            "linecolor": "white",
            "ticks": ""
           }
          },
          "scene": {
           "xaxis": {
            "backgroundcolor": "#E5ECF6",
            "gridcolor": "white",
            "gridwidth": 2,
            "linecolor": "white",
            "showbackground": true,
            "ticks": "",
            "zerolinecolor": "white"
           },
           "yaxis": {
            "backgroundcolor": "#E5ECF6",
            "gridcolor": "white",
            "gridwidth": 2,
            "linecolor": "white",
            "showbackground": true,
            "ticks": "",
            "zerolinecolor": "white"
           },
           "zaxis": {
            "backgroundcolor": "#E5ECF6",
            "gridcolor": "white",
            "gridwidth": 2,
            "linecolor": "white",
            "showbackground": true,
            "ticks": "",
            "zerolinecolor": "white"
           }
          },
          "shapedefaults": {
           "line": {
            "color": "#2a3f5f"
           }
          },
          "ternary": {
           "aaxis": {
            "gridcolor": "white",
            "linecolor": "white",
            "ticks": ""
           },
           "baxis": {
            "gridcolor": "white",
            "linecolor": "white",
            "ticks": ""
           },
           "bgcolor": "#E5ECF6",
           "caxis": {
            "gridcolor": "white",
            "linecolor": "white",
            "ticks": ""
           }
          },
          "title": {
           "x": 0.05
          },
          "xaxis": {
           "automargin": true,
           "gridcolor": "white",
           "linecolor": "white",
           "ticks": "",
           "title": {
            "standoff": 15
           },
           "zerolinecolor": "white",
           "zerolinewidth": 2
          },
          "yaxis": {
           "automargin": true,
           "gridcolor": "white",
           "linecolor": "white",
           "ticks": "",
           "title": {
            "standoff": 15
           },
           "zerolinecolor": "white",
           "zerolinewidth": 2
          }
         }
        },
        "title": {
         "text": "Fuzzy Clustering of Regions Based on Disposable Income and Life Expectancy"
        },
        "xaxis": {
         "anchor": "y",
         "domain": [
          0,
          1
         ],
         "title": {
          "text": "Disposable Income"
         }
        },
        "yaxis": {
         "anchor": "x",
         "domain": [
          0,
          1
         ],
         "title": {
          "text": "Life Expectancy"
         }
        }
       }
      }
     },
     "metadata": {},
     "output_type": "display_data"
    }
   ],
   "source": [
    "# Create a DataFrame for plotting that includes the regions, the actual values for disposable income and life expectancy, and cluster assignment\n",
    "plot_df = pivot_data.copy()\n",
    "plot_df['Cluster'] = labels\n",
    "\n",
    "# We need to get the actual values for disposable income and life expectancy from the pivoted data\n",
    "plot_df['Disposable income per capita'] = pivot_data['Disposable income per capita']\n",
    "plot_df['Life expectancy at birth'] = pivot_data['Life expectancy at birth']\n",
    "\n",
    "# Create a list of strings with the information you want to display on hover\n",
    "hover_data = []\n",
    "for index, row in plot_df.iterrows():\n",
    "    hover_text = f\"Region: {row['Regions']}<br>Disposable Income: {row['Disposable income per capita']}<br>Life Expectancy: {row['Life expectancy at birth']}<br>Cluster: {row['Cluster']}\"\n",
    "    hover_data.append(hover_text)\n",
    "\n",
    "# Create the scatter plot using Plotly\n",
    "fig = px.scatter(plot_df, x='Disposable income per capita', y='Life expectancy at birth',\n",
    "                 color='Cluster', hover_data=[plot_df['Country']]plot_df['Regions'], plot_df['Disposable income per capita'], plot_df['Life expectancy at birth']],\n",
    "                 labels={'Disposable income per capita':'Disposable Income', 'Life expectancy at birth':'Life Expectancy', 'color':'Cluster'})\n",
    "\n",
    "# Customize the layout\n",
    "fig.update_layout(\n",
    "    title=\"Fuzzy Clustering of Regions Based on Disposable Income and Life Expectancy\",\n",
    "    xaxis_title=\"Disposable Income\",\n",
    "    yaxis_title=\"Life Expectancy\",\n",
    "    legend_title=\"Cluster\"\n",
    ")\n",
    "\n",
    "# Customize the hover information\n",
    "fig.update_traces(marker=dict(size=12),\n",
    "                  hovertemplate='%{hovertext}',\n",
    "                  hovertext=hover_data)\n",
    "\n",
    "# Show the plot\n",
    "fig.show()\n"
   ]
  }
 ],
 "metadata": {
  "kernelspec": {
   "display_name": "base",
   "language": "python",
   "name": "python3"
  },
  "language_info": {
   "codemirror_mode": {
    "name": "ipython",
    "version": 3
   },
   "file_extension": ".py",
   "mimetype": "text/x-python",
   "name": "python",
   "nbconvert_exporter": "python",
   "pygments_lexer": "ipython3",
   "version": "3.9.12"
  }
 },
 "nbformat": 4,
 "nbformat_minor": 2
}
