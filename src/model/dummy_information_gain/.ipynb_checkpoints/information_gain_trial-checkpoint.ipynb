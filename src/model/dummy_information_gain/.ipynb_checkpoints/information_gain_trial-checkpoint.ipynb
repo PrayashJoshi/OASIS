{
 "cells": [
  {
   "cell_type": "code",
   "execution_count": 1,
   "metadata": {},
   "outputs": [],
   "source": [
    "import pandas as pd\n",
    "import numpy as np\n",
    "import random\n",
    "import operator\n",
    "import math\n",
    "from sklearn.preprocessing import MinMaxScaler\n",
    "import matplotlib.pyplot as plt\n",
    "import seaborn as sns\n",
    "import plotly.express as px\n",
    "from scipy.cluster.hierarchy import dendrogram"
   ]
  },
  {
   "cell_type": "code",
   "execution_count": 4,
   "metadata": {},
   "outputs": [],
   "source": [
    "# Read the dataset\n",
    "file_path = 'RWB_02112023195802159.csv'\n",
    "data = pd.read_csv(file_path)\n",
    "\n",
    "# Filter the dataset for 'Disposable income per capita' and 'Life expectancy at birth'\n",
    "income_life_exp_data = data[data['Indicator'].isin(['Disposable income per capita', 'Life expectancy at birth'])]\n",
    "\n",
    "# Pivot the data to have one row per region with both indicators\n",
    "pivot_data = income_life_exp_data.pivot_table(index=['REG_ID', 'Regions', 'TIME', 'Time'], \n",
    "                                              columns='Indicator', \n",
    "                                              values='Value').reset_index()\n",
    "\n",
    "# Normalize the features\n",
    "scaler = MinMaxScaler()\n",
    "features_to_cluster = pivot_data[['Disposable income per capita', 'Life expectancy at birth']]\n",
    "normalized_features = scaler.fit_transform(features_to_cluster)\n",
    "normalized_df = pd.DataFrame(normalized_features, columns=features_to_cluster.columns)\n"
   ]
  },
  {
   "cell_type": "code",
   "execution_count": 54,
   "metadata": {},
   "outputs": [],
   "source": [
    "import numpy as np\n",
    "from scipy.stats import binned_statistic\n",
    "\n",
    "def entropy(values, no_bins):\n",
    "    entropy = 0\n",
    "    range_of_bins = (max(values) - min(values)) / no_bins\n",
    "    bin_groupings = binned_statistic(values, values, bins=no_bins, range=(0, 1))[2]    \n",
    "    for i in range(0, len(values)):\n",
    "        prob = bin_groupings.tolist().count(bin_groupings[i]) / len(bin_groupings) \n",
    "        entropy -= prob * math.log2(prob)\n",
    "    return entropy\n",
    "\n",
    "# def information_needed(values):\n",
    "    "
   ]
  },
  {
   "cell_type": "code",
   "execution_count": 44,
   "metadata": {},
   "outputs": [
    {
     "data": {
      "text/plain": [
       "0      0.711111\n",
       "1      0.703704\n",
       "2      0.644444\n",
       "3      0.755556\n",
       "4      0.755556\n",
       "         ...   \n",
       "385    0.637037\n",
       "386    0.303704\n",
       "387    0.644444\n",
       "388    0.518519\n",
       "389    0.540741\n",
       "Name: Life expectancy at birth, Length: 390, dtype: float64"
      ]
     },
     "execution_count": 44,
     "metadata": {},
     "output_type": "execute_result"
    }
   ],
   "source": [
    "normalized_df.iloc[:,1]"
   ]
  },
  {
   "cell_type": "code",
   "execution_count": 45,
   "metadata": {},
   "outputs": [],
   "source": [
    "v = [np.std(normalized_df.iloc[:,i]) / np.average(normalized_df.iloc[:,i]) for i in range(0, len(normalized_df.columns))]"
   ]
  },
  {
   "cell_type": "code",
   "execution_count": 46,
   "metadata": {},
   "outputs": [
    {
     "data": {
      "text/plain": [
       "[0.635103346305578, 0.33645365983452524]"
      ]
     },
     "execution_count": 46,
     "metadata": {},
     "output_type": "execute_result"
    }
   ],
   "source": [
    "v"
   ]
  },
  {
   "cell_type": "code",
   "execution_count": 47,
   "metadata": {},
   "outputs": [],
   "source": [
    "w = [v[i] / sum(v) for i in range(0, len(v))]"
   ]
  },
  {
   "cell_type": "code",
   "execution_count": 48,
   "metadata": {},
   "outputs": [
    {
     "data": {
      "text/plain": [
       "[0.653696429845922, 0.34630357015407803]"
      ]
     },
     "execution_count": 48,
     "metadata": {},
     "output_type": "execute_result"
    }
   ],
   "source": [
    "w"
   ]
  },
  {
   "cell_type": "code",
   "execution_count": 56,
   "metadata": {},
   "outputs": [
    {
     "data": {
      "text/plain": [
       "178.44485989569915"
      ]
     },
     "execution_count": 56,
     "metadata": {},
     "output_type": "execute_result"
    }
   ],
   "source": [
    "entropy(normalized_df.iloc[:,1], 6)"
   ]
  },
  {
   "cell_type": "code",
   "execution_count": 59,
   "metadata": {},
   "outputs": [],
   "source": [
    "def ewm(df):\n",
    "    df = df.apply(lambda x: ((x - np.min(x)) / (np.max(x) - np.min(x))))\n",
    "    print(f\"df {df}\")\n",
    "    rows, cols = df.shape \n",
    "    k = 1.0 / math.log(rows)\n",
    "    \n",
    "    p = df / df.sum(axis=0)\n",
    "    lnf = -np.log(p , where = df!=0 )*p*k\n",
    "    \n",
    "    d = 1 - lnf.sum(axis=0)\n",
    "    w = d / d.sum()\n",
    "    \n",
    "    w = pd.DataFrame(w)\n",
    "    w = w.round(5)\n",
    "    w.index = df.columns\n",
    "    w.columns =['weight']\n",
    "    return w"
   ]
  },
  {
   "cell_type": "code",
   "execution_count": 60,
   "metadata": {},
   "outputs": [
    {
     "name": "stdout",
     "output_type": "stream",
     "text": [
      "df Indicator  Disposable income per capita  Life expectancy at birth\n",
      "0                              0.364875                  0.711111\n",
      "1                              0.381422                  0.703704\n",
      "2                              0.357903                  0.644444\n",
      "3                              0.351231                  0.755556\n",
      "4                              0.358270                  0.755556\n",
      "..                                  ...                       ...\n",
      "385                            0.647735                  0.637037\n",
      "386                            0.478299                  0.303704\n",
      "387                            0.575244                  0.644444\n",
      "388                            0.696057                  0.518519\n",
      "389                            0.591757                  0.540741\n",
      "\n",
      "[390 rows x 2 columns]\n"
     ]
    },
    {
     "data": {
      "text/html": [
       "<div>\n",
       "<style scoped>\n",
       "    .dataframe tbody tr th:only-of-type {\n",
       "        vertical-align: middle;\n",
       "    }\n",
       "\n",
       "    .dataframe tbody tr th {\n",
       "        vertical-align: top;\n",
       "    }\n",
       "\n",
       "    .dataframe thead th {\n",
       "        text-align: right;\n",
       "    }\n",
       "</style>\n",
       "<table border=\"1\" class=\"dataframe\">\n",
       "  <thead>\n",
       "    <tr style=\"text-align: right;\">\n",
       "      <th></th>\n",
       "      <th>weight</th>\n",
       "    </tr>\n",
       "    <tr>\n",
       "      <th>Indicator</th>\n",
       "      <th></th>\n",
       "    </tr>\n",
       "  </thead>\n",
       "  <tbody>\n",
       "    <tr>\n",
       "      <th>Disposable income per capita</th>\n",
       "      <td>0.77113</td>\n",
       "    </tr>\n",
       "    <tr>\n",
       "      <th>Life expectancy at birth</th>\n",
       "      <td>0.22887</td>\n",
       "    </tr>\n",
       "  </tbody>\n",
       "</table>\n",
       "</div>"
      ],
      "text/plain": [
       "                               weight\n",
       "Indicator                            \n",
       "Disposable income per capita  0.77113\n",
       "Life expectancy at birth      0.22887"
      ]
     },
     "execution_count": 60,
     "metadata": {},
     "output_type": "execute_result"
    }
   ],
   "source": [
    "ewm(normalized_df)"
   ]
  },
  {
   "cell_type": "code",
   "execution_count": 82,
   "metadata": {},
   "outputs": [],
   "source": [
    "# Standardizing values at each index\n",
    "p = normalized_df.copy(deep=True)\n",
    "for c in range(0, len(normalized_df.columns)):\n",
    "    for d in range(0, len(normalized_df)):\n",
    "        p.iloc[d, c] = normalized_df.iloc[d, c] / sum(normalized_df.iloc[:, c])\n",
    "        \n",
    "# Entropy value at each index\n",
    "E = []\n",
    "for c in range(0, len(p.columns)):\n",
    "    s = 0\n",
    "    for d in range(0, len(p)):\n",
    "        if (p.iloc[d, c] != 0):\n",
    "            s += p.iloc[d, c] * math.log(p.iloc[d, c])\n",
    "    E.append(-s / len(normalized_df))\n",
    "\n",
    "w = []\n",
    "denom_w = 0\n",
    "for i in range(0, len(E)):\n",
    "    denom_w += 1 - E[i]\n",
    "for i in range(0, len(E)):\n",
    "    w.append((1 - E[i]) / denom_w)"
   ]
  },
  {
   "cell_type": "code",
   "execution_count": null,
   "metadata": {},
   "outputs": [],
   "source": [
    "w"
   ]
  }
 ],
 "metadata": {
  "kernelspec": {
   "display_name": "Python 3",
   "language": "python",
   "name": "python3"
  },
  "language_info": {
   "codemirror_mode": {
    "name": "ipython",
    "version": 3
   },
   "file_extension": ".py",
   "mimetype": "text/x-python",
   "name": "python",
   "nbconvert_exporter": "python",
   "pygments_lexer": "ipython3",
   "version": "3.8.8"
  }
 },
 "nbformat": 4,
 "nbformat_minor": 2
}
